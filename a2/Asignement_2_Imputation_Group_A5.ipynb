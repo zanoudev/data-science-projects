{
  "nbformat": 4,
  "nbformat_minor": 0,
  "metadata": {
    "colab": {
      "provenance": []
    },
    "kernelspec": {
      "name": "python3",
      "display_name": "Python 3"
    },
    "language_info": {
      "name": "python"
    }
  },
  "cells": [
    {
      "cell_type": "markdown",
      "source": [
        "# Assignment 2 - Data Cleaning (Imputation)\n",
        "\n",
        "**Group number**: A-5 <br>\n",
        "**Name student**: Zanou Rih & Sanaa El Marbouh<br>\n",
        "**Student Number**: 300178068 & 300267783 <br>\n",
        "\n",
        "##Dataset Description - Car Price Dataset\n",
        "\n",
        "&#128279; **Link**: https://www.kaggle.com/datasets/asinow/car-price-dataset<br>\n",
        "&#128100; **Author**: Asinow<br>\n",
        "\n",
        "**Size**: 10 Columns, 10000 rows <br>\n",
        "**Description**:  <br>\n",
        "\n",
        "**About dataset**: <br>\n",
        "\n",
        "This dataset contains 10,000 entries created for the purpose of predicting car prices. Each row represents information about a car and its price. The descriptions of the columns are as follows:\n",
        "\n",
        "**Key Features**:\n",
        "\n",
        "Brand: Specifies the brand of the car (e.g., Toyota, BMW, Ford).\n",
        "Example values: \"Toyota\", \"BMW\", \"Mercedes\".\n",
        "\n",
        "Model: Specifies the model of the car (e.g., Corolla, Focus, X5).\n",
        "Example values: \"Corolla\", \"Focus\", \"X5\".\n",
        "\n",
        "Year: The production year of the car. Newer years typically indicate higher prices.\n",
        "Example values: 2005, 2018, 2023.\n",
        "\n",
        "Engine_Size: Specifies the engine size in liters (L). Larger engines generally correlate with higher prices.\n",
        "Example values: 1.6, 2.0, 3.5.\n",
        "\n",
        "Fuel_Type: indicates the type of fuel used by the car:\n",
        "Petrol: Cars running on gasoline.\n",
        "Diesel: Cars running on diesel fuel.\n",
        "Hybrid: Cars that use both fuel and electricity.\n",
        "Electric: Fully electric cars.\n",
        "\n",
        "Transmission: The type of transmission in the car:\n",
        "Manual: Manual transmission.\n",
        "Automatic: Automatic transmission.\n",
        "Semi-Automatic: Semi-automatic transmission.\n",
        "\n",
        "Mileage: The total distance the car has traveled, measured in kilometers. Lower mileage generally indicates a higher price.\n",
        "Example values: 15,000, 75,000, 230,000.\n",
        "\n",
        "Doors: The number of doors in the car. Commonly 2, 3, 4, or 5 doors.\n",
        "Example values: 2, 3, 4, 5.\n",
        "\n",
        "Owner_Count: The number of previous owners of the car. Fewer owners generally indicate a higher price.\n",
        "Example values: 1, 2, 3, 4.\n",
        "\n",
        "Price:The estimated selling price of the car. It is calculated based on several factors such as production year, engine size, mileage, fuel type, and transmission.\n",
        "Example values: 5,000, 15,000, 30,000."
      ],
      "metadata": {
        "id": "8zgrxQI5ucgm"
      }
    },
    {
      "cell_type": "code",
      "source": [
        "# IMPORT STATEMENTS\n",
        "\n",
        "import pandas as pd\n",
        "import numpy as np\n",
        "import matplotlib.pyplot as plt\n",
        "import seaborn as sns\n",
        "from collections import Counter\n",
        "from sklearn.linear_model import LinearRegression\n",
        "from sklearn.metrics import mean_squared_error\n",
        "from sklearn.experimental import enable_iterative_imputer\n",
        "from sklearn.impute import IterativeImputer\n",
        "from sklearn.metrics import mean_absolute_error\n"
      ],
      "metadata": {
        "id": "5Bn-KzA-xkCz"
      },
      "execution_count": null,
      "outputs": []
    },
    {
      "cell_type": "code",
      "source": [
        "# raw file URL from github\n",
        "git_url_ds = \"https://raw.githubusercontent.com/zanoudev/csi4142-ds/refs/heads/master/car_price_dataset.csv\"\n",
        "\n",
        "#load DS\n",
        "ds = pd.read_csv(git_url_ds)\n",
        "\n",
        "# display the first few rows\n",
        "ds.head()"
      ],
      "metadata": {
        "colab": {
          "base_uri": "https://localhost:8080/",
          "height": 206
        },
        "id": "4iBBBi-XxxJi",
        "outputId": "5188fbc1-d9a1-4a76-c028-6623d8b41740"
      },
      "execution_count": null,
      "outputs": [
        {
          "output_type": "execute_result",
          "data": {
            "text/plain": [
              "        Brand   Model  Year  Engine_Size Fuel_Type    Transmission  Mileage  \\\n",
              "0         Kia     Rio  2020          4.2    Diesel          Manual   289944   \n",
              "1   Chevrolet  Malibu  2012          2.0    Hybrid       Automatic     5356   \n",
              "2    Mercedes     GLA  2020          4.2    Diesel       Automatic   231440   \n",
              "3        Audi      Q5  2023          2.0  Electric          Manual   160971   \n",
              "4  Volkswagen    Golf  2003          2.6    Hybrid  Semi-Automatic   286618   \n",
              "\n",
              "   Doors  Owner_Count  Price  \n",
              "0      3            5   8501  \n",
              "1      2            3  12092  \n",
              "2      4            2  11171  \n",
              "3      2            1  11780  \n",
              "4      3            3   2867  "
            ],
            "text/html": [
              "\n",
              "  <div id=\"df-875f941c-a4a5-4329-ae33-c8b05c7ee16a\" class=\"colab-df-container\">\n",
              "    <div>\n",
              "<style scoped>\n",
              "    .dataframe tbody tr th:only-of-type {\n",
              "        vertical-align: middle;\n",
              "    }\n",
              "\n",
              "    .dataframe tbody tr th {\n",
              "        vertical-align: top;\n",
              "    }\n",
              "\n",
              "    .dataframe thead th {\n",
              "        text-align: right;\n",
              "    }\n",
              "</style>\n",
              "<table border=\"1\" class=\"dataframe\">\n",
              "  <thead>\n",
              "    <tr style=\"text-align: right;\">\n",
              "      <th></th>\n",
              "      <th>Brand</th>\n",
              "      <th>Model</th>\n",
              "      <th>Year</th>\n",
              "      <th>Engine_Size</th>\n",
              "      <th>Fuel_Type</th>\n",
              "      <th>Transmission</th>\n",
              "      <th>Mileage</th>\n",
              "      <th>Doors</th>\n",
              "      <th>Owner_Count</th>\n",
              "      <th>Price</th>\n",
              "    </tr>\n",
              "  </thead>\n",
              "  <tbody>\n",
              "    <tr>\n",
              "      <th>0</th>\n",
              "      <td>Kia</td>\n",
              "      <td>Rio</td>\n",
              "      <td>2020</td>\n",
              "      <td>4.2</td>\n",
              "      <td>Diesel</td>\n",
              "      <td>Manual</td>\n",
              "      <td>289944</td>\n",
              "      <td>3</td>\n",
              "      <td>5</td>\n",
              "      <td>8501</td>\n",
              "    </tr>\n",
              "    <tr>\n",
              "      <th>1</th>\n",
              "      <td>Chevrolet</td>\n",
              "      <td>Malibu</td>\n",
              "      <td>2012</td>\n",
              "      <td>2.0</td>\n",
              "      <td>Hybrid</td>\n",
              "      <td>Automatic</td>\n",
              "      <td>5356</td>\n",
              "      <td>2</td>\n",
              "      <td>3</td>\n",
              "      <td>12092</td>\n",
              "    </tr>\n",
              "    <tr>\n",
              "      <th>2</th>\n",
              "      <td>Mercedes</td>\n",
              "      <td>GLA</td>\n",
              "      <td>2020</td>\n",
              "      <td>4.2</td>\n",
              "      <td>Diesel</td>\n",
              "      <td>Automatic</td>\n",
              "      <td>231440</td>\n",
              "      <td>4</td>\n",
              "      <td>2</td>\n",
              "      <td>11171</td>\n",
              "    </tr>\n",
              "    <tr>\n",
              "      <th>3</th>\n",
              "      <td>Audi</td>\n",
              "      <td>Q5</td>\n",
              "      <td>2023</td>\n",
              "      <td>2.0</td>\n",
              "      <td>Electric</td>\n",
              "      <td>Manual</td>\n",
              "      <td>160971</td>\n",
              "      <td>2</td>\n",
              "      <td>1</td>\n",
              "      <td>11780</td>\n",
              "    </tr>\n",
              "    <tr>\n",
              "      <th>4</th>\n",
              "      <td>Volkswagen</td>\n",
              "      <td>Golf</td>\n",
              "      <td>2003</td>\n",
              "      <td>2.6</td>\n",
              "      <td>Hybrid</td>\n",
              "      <td>Semi-Automatic</td>\n",
              "      <td>286618</td>\n",
              "      <td>3</td>\n",
              "      <td>3</td>\n",
              "      <td>2867</td>\n",
              "    </tr>\n",
              "  </tbody>\n",
              "</table>\n",
              "</div>\n",
              "    <div class=\"colab-df-buttons\">\n",
              "\n",
              "  <div class=\"colab-df-container\">\n",
              "    <button class=\"colab-df-convert\" onclick=\"convertToInteractive('df-875f941c-a4a5-4329-ae33-c8b05c7ee16a')\"\n",
              "            title=\"Convert this dataframe to an interactive table.\"\n",
              "            style=\"display:none;\">\n",
              "\n",
              "  <svg xmlns=\"http://www.w3.org/2000/svg\" height=\"24px\" viewBox=\"0 -960 960 960\">\n",
              "    <path d=\"M120-120v-720h720v720H120Zm60-500h600v-160H180v160Zm220 220h160v-160H400v160Zm0 220h160v-160H400v160ZM180-400h160v-160H180v160Zm440 0h160v-160H620v160ZM180-180h160v-160H180v160Zm440 0h160v-160H620v160Z\"/>\n",
              "  </svg>\n",
              "    </button>\n",
              "\n",
              "  <style>\n",
              "    .colab-df-container {\n",
              "      display:flex;\n",
              "      gap: 12px;\n",
              "    }\n",
              "\n",
              "    .colab-df-convert {\n",
              "      background-color: #E8F0FE;\n",
              "      border: none;\n",
              "      border-radius: 50%;\n",
              "      cursor: pointer;\n",
              "      display: none;\n",
              "      fill: #1967D2;\n",
              "      height: 32px;\n",
              "      padding: 0 0 0 0;\n",
              "      width: 32px;\n",
              "    }\n",
              "\n",
              "    .colab-df-convert:hover {\n",
              "      background-color: #E2EBFA;\n",
              "      box-shadow: 0px 1px 2px rgba(60, 64, 67, 0.3), 0px 1px 3px 1px rgba(60, 64, 67, 0.15);\n",
              "      fill: #174EA6;\n",
              "    }\n",
              "\n",
              "    .colab-df-buttons div {\n",
              "      margin-bottom: 4px;\n",
              "    }\n",
              "\n",
              "    [theme=dark] .colab-df-convert {\n",
              "      background-color: #3B4455;\n",
              "      fill: #D2E3FC;\n",
              "    }\n",
              "\n",
              "    [theme=dark] .colab-df-convert:hover {\n",
              "      background-color: #434B5C;\n",
              "      box-shadow: 0px 1px 3px 1px rgba(0, 0, 0, 0.15);\n",
              "      filter: drop-shadow(0px 1px 2px rgba(0, 0, 0, 0.3));\n",
              "      fill: #FFFFFF;\n",
              "    }\n",
              "  </style>\n",
              "\n",
              "    <script>\n",
              "      const buttonEl =\n",
              "        document.querySelector('#df-875f941c-a4a5-4329-ae33-c8b05c7ee16a button.colab-df-convert');\n",
              "      buttonEl.style.display =\n",
              "        google.colab.kernel.accessAllowed ? 'block' : 'none';\n",
              "\n",
              "      async function convertToInteractive(key) {\n",
              "        const element = document.querySelector('#df-875f941c-a4a5-4329-ae33-c8b05c7ee16a');\n",
              "        const dataTable =\n",
              "          await google.colab.kernel.invokeFunction('convertToInteractive',\n",
              "                                                    [key], {});\n",
              "        if (!dataTable) return;\n",
              "\n",
              "        const docLinkHtml = 'Like what you see? Visit the ' +\n",
              "          '<a target=\"_blank\" href=https://colab.research.google.com/notebooks/data_table.ipynb>data table notebook</a>'\n",
              "          + ' to learn more about interactive tables.';\n",
              "        element.innerHTML = '';\n",
              "        dataTable['output_type'] = 'display_data';\n",
              "        await google.colab.output.renderOutput(dataTable, element);\n",
              "        const docLink = document.createElement('div');\n",
              "        docLink.innerHTML = docLinkHtml;\n",
              "        element.appendChild(docLink);\n",
              "      }\n",
              "    </script>\n",
              "  </div>\n",
              "\n",
              "\n",
              "<div id=\"df-2fd9c5b0-e39c-4bde-856d-238529b0109d\">\n",
              "  <button class=\"colab-df-quickchart\" onclick=\"quickchart('df-2fd9c5b0-e39c-4bde-856d-238529b0109d')\"\n",
              "            title=\"Suggest charts\"\n",
              "            style=\"display:none;\">\n",
              "\n",
              "<svg xmlns=\"http://www.w3.org/2000/svg\" height=\"24px\"viewBox=\"0 0 24 24\"\n",
              "     width=\"24px\">\n",
              "    <g>\n",
              "        <path d=\"M19 3H5c-1.1 0-2 .9-2 2v14c0 1.1.9 2 2 2h14c1.1 0 2-.9 2-2V5c0-1.1-.9-2-2-2zM9 17H7v-7h2v7zm4 0h-2V7h2v10zm4 0h-2v-4h2v4z\"/>\n",
              "    </g>\n",
              "</svg>\n",
              "  </button>\n",
              "\n",
              "<style>\n",
              "  .colab-df-quickchart {\n",
              "      --bg-color: #E8F0FE;\n",
              "      --fill-color: #1967D2;\n",
              "      --hover-bg-color: #E2EBFA;\n",
              "      --hover-fill-color: #174EA6;\n",
              "      --disabled-fill-color: #AAA;\n",
              "      --disabled-bg-color: #DDD;\n",
              "  }\n",
              "\n",
              "  [theme=dark] .colab-df-quickchart {\n",
              "      --bg-color: #3B4455;\n",
              "      --fill-color: #D2E3FC;\n",
              "      --hover-bg-color: #434B5C;\n",
              "      --hover-fill-color: #FFFFFF;\n",
              "      --disabled-bg-color: #3B4455;\n",
              "      --disabled-fill-color: #666;\n",
              "  }\n",
              "\n",
              "  .colab-df-quickchart {\n",
              "    background-color: var(--bg-color);\n",
              "    border: none;\n",
              "    border-radius: 50%;\n",
              "    cursor: pointer;\n",
              "    display: none;\n",
              "    fill: var(--fill-color);\n",
              "    height: 32px;\n",
              "    padding: 0;\n",
              "    width: 32px;\n",
              "  }\n",
              "\n",
              "  .colab-df-quickchart:hover {\n",
              "    background-color: var(--hover-bg-color);\n",
              "    box-shadow: 0 1px 2px rgba(60, 64, 67, 0.3), 0 1px 3px 1px rgba(60, 64, 67, 0.15);\n",
              "    fill: var(--button-hover-fill-color);\n",
              "  }\n",
              "\n",
              "  .colab-df-quickchart-complete:disabled,\n",
              "  .colab-df-quickchart-complete:disabled:hover {\n",
              "    background-color: var(--disabled-bg-color);\n",
              "    fill: var(--disabled-fill-color);\n",
              "    box-shadow: none;\n",
              "  }\n",
              "\n",
              "  .colab-df-spinner {\n",
              "    border: 2px solid var(--fill-color);\n",
              "    border-color: transparent;\n",
              "    border-bottom-color: var(--fill-color);\n",
              "    animation:\n",
              "      spin 1s steps(1) infinite;\n",
              "  }\n",
              "\n",
              "  @keyframes spin {\n",
              "    0% {\n",
              "      border-color: transparent;\n",
              "      border-bottom-color: var(--fill-color);\n",
              "      border-left-color: var(--fill-color);\n",
              "    }\n",
              "    20% {\n",
              "      border-color: transparent;\n",
              "      border-left-color: var(--fill-color);\n",
              "      border-top-color: var(--fill-color);\n",
              "    }\n",
              "    30% {\n",
              "      border-color: transparent;\n",
              "      border-left-color: var(--fill-color);\n",
              "      border-top-color: var(--fill-color);\n",
              "      border-right-color: var(--fill-color);\n",
              "    }\n",
              "    40% {\n",
              "      border-color: transparent;\n",
              "      border-right-color: var(--fill-color);\n",
              "      border-top-color: var(--fill-color);\n",
              "    }\n",
              "    60% {\n",
              "      border-color: transparent;\n",
              "      border-right-color: var(--fill-color);\n",
              "    }\n",
              "    80% {\n",
              "      border-color: transparent;\n",
              "      border-right-color: var(--fill-color);\n",
              "      border-bottom-color: var(--fill-color);\n",
              "    }\n",
              "    90% {\n",
              "      border-color: transparent;\n",
              "      border-bottom-color: var(--fill-color);\n",
              "    }\n",
              "  }\n",
              "</style>\n",
              "\n",
              "  <script>\n",
              "    async function quickchart(key) {\n",
              "      const quickchartButtonEl =\n",
              "        document.querySelector('#' + key + ' button');\n",
              "      quickchartButtonEl.disabled = true;  // To prevent multiple clicks.\n",
              "      quickchartButtonEl.classList.add('colab-df-spinner');\n",
              "      try {\n",
              "        const charts = await google.colab.kernel.invokeFunction(\n",
              "            'suggestCharts', [key], {});\n",
              "      } catch (error) {\n",
              "        console.error('Error during call to suggestCharts:', error);\n",
              "      }\n",
              "      quickchartButtonEl.classList.remove('colab-df-spinner');\n",
              "      quickchartButtonEl.classList.add('colab-df-quickchart-complete');\n",
              "    }\n",
              "    (() => {\n",
              "      let quickchartButtonEl =\n",
              "        document.querySelector('#df-2fd9c5b0-e39c-4bde-856d-238529b0109d button');\n",
              "      quickchartButtonEl.style.display =\n",
              "        google.colab.kernel.accessAllowed ? 'block' : 'none';\n",
              "    })();\n",
              "  </script>\n",
              "</div>\n",
              "\n",
              "    </div>\n",
              "  </div>\n"
            ],
            "application/vnd.google.colaboratory.intrinsic+json": {
              "type": "dataframe",
              "variable_name": "ds",
              "summary": "{\n  \"name\": \"ds\",\n  \"rows\": 10000,\n  \"fields\": [\n    {\n      \"column\": \"Brand\",\n      \"properties\": {\n        \"dtype\": \"category\",\n        \"num_unique_values\": 10,\n        \"samples\": [\n          \"Hyundai\",\n          \"Chevrolet\",\n          \"Toyota\"\n        ],\n        \"semantic_type\": \"\",\n        \"description\": \"\"\n      }\n    },\n    {\n      \"column\": \"Model\",\n      \"properties\": {\n        \"dtype\": \"category\",\n        \"num_unique_values\": 30,\n        \"samples\": [\n          \"C-Class\",\n          \"A3\",\n          \"A4\"\n        ],\n        \"semantic_type\": \"\",\n        \"description\": \"\"\n      }\n    },\n    {\n      \"column\": \"Year\",\n      \"properties\": {\n        \"dtype\": \"number\",\n        \"std\": 6,\n        \"min\": 2000,\n        \"max\": 2023,\n        \"num_unique_values\": 24,\n        \"samples\": [\n          2005,\n          2018,\n          2020\n        ],\n        \"semantic_type\": \"\",\n        \"description\": \"\"\n      }\n    },\n    {\n      \"column\": \"Engine_Size\",\n      \"properties\": {\n        \"dtype\": \"number\",\n        \"std\": 1.149324053945646,\n        \"min\": 1.0,\n        \"max\": 5.0,\n        \"num_unique_values\": 41,\n        \"samples\": [\n          1.0,\n          2.9,\n          4.5\n        ],\n        \"semantic_type\": \"\",\n        \"description\": \"\"\n      }\n    },\n    {\n      \"column\": \"Fuel_Type\",\n      \"properties\": {\n        \"dtype\": \"category\",\n        \"num_unique_values\": 4,\n        \"samples\": [\n          \"Hybrid\",\n          \"Petrol\",\n          \"Diesel\"\n        ],\n        \"semantic_type\": \"\",\n        \"description\": \"\"\n      }\n    },\n    {\n      \"column\": \"Transmission\",\n      \"properties\": {\n        \"dtype\": \"category\",\n        \"num_unique_values\": 3,\n        \"samples\": [\n          \"Manual\",\n          \"Automatic\",\n          \"Semi-Automatic\"\n        ],\n        \"semantic_type\": \"\",\n        \"description\": \"\"\n      }\n    },\n    {\n      \"column\": \"Mileage\",\n      \"properties\": {\n        \"dtype\": \"number\",\n        \"std\": 86322,\n        \"min\": 25,\n        \"max\": 299947,\n        \"num_unique_values\": 9854,\n        \"samples\": [\n          144244,\n          105615,\n          8332\n        ],\n        \"semantic_type\": \"\",\n        \"description\": \"\"\n      }\n    },\n    {\n      \"column\": \"Doors\",\n      \"properties\": {\n        \"dtype\": \"number\",\n        \"std\": 1,\n        \"min\": 2,\n        \"max\": 5,\n        \"num_unique_values\": 4,\n        \"samples\": [\n          2,\n          5,\n          3\n        ],\n        \"semantic_type\": \"\",\n        \"description\": \"\"\n      }\n    },\n    {\n      \"column\": \"Owner_Count\",\n      \"properties\": {\n        \"dtype\": \"number\",\n        \"std\": 1,\n        \"min\": 1,\n        \"max\": 5,\n        \"num_unique_values\": 5,\n        \"samples\": [\n          3,\n          4,\n          2\n        ],\n        \"semantic_type\": \"\",\n        \"description\": \"\"\n      }\n    },\n    {\n      \"column\": \"Price\",\n      \"properties\": {\n        \"dtype\": \"number\",\n        \"std\": 3112,\n        \"min\": 2000,\n        \"max\": 18301,\n        \"num_unique_values\": 6661,\n        \"samples\": [\n          10460,\n          8448,\n          12616\n        ],\n        \"semantic_type\": \"\",\n        \"description\": \"\"\n      }\n    }\n  ]\n}"
            }
          },
          "metadata": {},
          "execution_count": 49
        }
      ]
    },
    {
      "cell_type": "markdown",
      "source": [
        "**Checking the missing values**"
      ],
      "metadata": {
        "id": "ykZ9xbmT4prn"
      }
    },
    {
      "cell_type": "code",
      "source": [
        "# check missing values\n",
        "print(\"\\nMissing Values Summary:\\n\", ds.isnull().sum())"
      ],
      "metadata": {
        "colab": {
          "base_uri": "https://localhost:8080/"
        },
        "id": "vjM1qwEA4icv",
        "outputId": "0f61e311-80a8-4f95-df0d-9dbc7b4ab649"
      },
      "execution_count": null,
      "outputs": [
        {
          "output_type": "stream",
          "name": "stdout",
          "text": [
            "\n",
            "Missing Values Summary:\n",
            " Brand           0\n",
            "Model           0\n",
            "Year            0\n",
            "Engine_Size     0\n",
            "Fuel_Type       0\n",
            "Transmission    0\n",
            "Mileage         0\n",
            "Doors           0\n",
            "Owner_Count     0\n",
            "Price           0\n",
            "dtype: int64\n"
          ]
        }
      ]
    },
    {
      "cell_type": "markdown",
      "source": [
        "# ***a/- Choosing an attribute on which to test my imputation method***"
      ],
      "metadata": {
        "id": "0xFate97Ff_A"
      }
    },
    {
      "cell_type": "markdown",
      "source": [
        "**1.Imputation of Mileage using Mean Imputation**\n",
        "\n",
        "- I decided to impute missing values in the Mileage column because it is an essential numerical attribute that reflects a car’s usage. Missing values in this feature may result from incomplete data collection or errors in data entry. Since mileage tends to follow a general distribution, I chose to use mean imputation, knowing that it would help preserve the dataset’s overall structure while ensuring that no rows are lost due to missing values.\n",
        "\n",
        "- I selected mean imputation because the missing values in Mileage appear to be Missing Completely at Random (MCAR), meaning they do not depend on other features. This method is computationally efficient and maintains statistical consistency, making it a practical choice for a variable like mileage, where individual variations are less critical than overall trends. However, I acknowledge that this approach does not account for potential relationships between mileage and other factors, which could introduce minor biases.\n",
        "\n",
        "**2.Imputation of Price using Regression Imputation**\n",
        "\n",
        "- I chose to apply regression imputation for missing values in the Price column because price is a critical variable that directly impacts the dataset's usefulness for analysis. Since car prices are influenced by multiple factors, including Engine_Size and Mileage, I decided that a predictive approach would yield more accurate estimates compared to basic imputation techniques.\n",
        "\n",
        "- I used regression imputation knowing that Price is strongly correlated with Engine_Size. By training a regression model on existing data, I aimed to estimate missing price values based on this relationship, hoping to preserve meaningful variations in the dataset. Unlike mean imputation, which assigns the same value to all missing entries, regression provides unique estimates tailored to each data point. While this method improves accuracy, I recognize that it may not fully capture more complex pricing dynamics that involve additional variables like brand or condition.\n",
        "\n",
        "**3. Imputation of Engine_Size using MICE**\n",
        "\n",
        "- I selected Multiple Imputation by Chained Equations (MICE) to handle missing values in Engine_Size because this feature plays a significant role in determining a car’s performance and market value. Missing values in this column could arise due to inconsistencies in data sources or manufacturer specifications. Given that Engine_Size is likely influenced by other attributes, I wanted to use an imputation method that considers multiple variables simultaneously.\n",
        "\n",
        "- I chose MICE because it iteratively predicts missing values using multiple predictors, refining the estimates with each iteration. Knowing that Engine_Size is connected to Price, Mileage, and Year, I wanted to ensure that imputed values were realistic and aligned with actual data trends. This method is more sophisticated than mean or regression imputation because it accounts for the dependencies between variables, helping to reduce imputation bias and maintain data integrity."
      ],
      "metadata": {
        "id": "m1GtQAf2FtWL"
      }
    },
    {
      "cell_type": "markdown",
      "source": [
        "# ***b/- Simulate missing values by removing some values on that attribute in the dataset***"
      ],
      "metadata": {
        "id": "6pdnTs7U3kFz"
      }
    },
    {
      "cell_type": "code",
      "source": [
        "np.random.seed(42)\n",
        "\n",
        "# original values for evaluation\n",
        "ds['Mileage_orig'] = ds['Mileage']\n",
        "ds['Price_orig'] = ds['Price']\n",
        "ds['Engine_Size_orig'] = ds['Engine_Size']\n",
        "\n",
        "# MCAR - remove 10% of \"Mileage\"\n",
        "missing_mileage = np.random.choice(ds.index, size=int(0.1 * len(ds)), replace=False)\n",
        "ds.loc[missing_mileage, 'Mileage'] = np.nan\n",
        "\n",
        "# MAR - remove \"Price\" for cars with Engine Size < 2.0\n",
        "ds.loc[ds['Engine_Size'] < 2.0, 'Price'] = np.nan\n",
        "\n",
        "# MNAR - remove \"Engine_Size\" for high-priced cars\n",
        "threshold_price = ds['Price_orig'].quantile(0.8)  # Top 20% most expensive cars\n",
        "ds.loc[ds['Price_orig'] > threshold_price, 'Engine_Size'] = np.nan\n"
      ],
      "metadata": {
        "id": "Oa3pLfyk3ocz"
      },
      "execution_count": null,
      "outputs": []
    },
    {
      "cell_type": "markdown",
      "source": [
        "**Checking missing values after simulation:**"
      ],
      "metadata": {
        "id": "okeTWUoX5V-i"
      }
    },
    {
      "cell_type": "code",
      "source": [
        "# check missing values\n",
        "print(\"\\nMissing Values Summary After Fixing Simulation:\\n\", ds.isnull().sum())"
      ],
      "metadata": {
        "colab": {
          "base_uri": "https://localhost:8080/"
        },
        "id": "8vKuBcC-6wIA",
        "outputId": "f984023b-ceb3-4cda-fc05-47d6fffe8c1a"
      },
      "execution_count": null,
      "outputs": [
        {
          "output_type": "stream",
          "name": "stdout",
          "text": [
            "\n",
            "Missing Values Summary After Fixing Simulation:\n",
            " Brand                  0\n",
            "Model                  0\n",
            "Year                   0\n",
            "Engine_Size         2000\n",
            "Fuel_Type              0\n",
            "Transmission           0\n",
            "Mileage             1000\n",
            "Doors                  0\n",
            "Owner_Count            0\n",
            "Price               2364\n",
            "Mileage_orig           0\n",
            "Price_orig             0\n",
            "Engine_Size_orig       0\n",
            "dtype: int64\n"
          ]
        }
      ]
    },
    {
      "cell_type": "markdown",
      "source": [
        "# ***c/- Program an imputation approach for replacing the missing values***"
      ],
      "metadata": {
        "id": "RgHoikQfJTj_"
      }
    },
    {
      "cell_type": "markdown",
      "source": [
        "**1-Default Value Imputation (Mean) for the attribut: Mileage**"
      ],
      "metadata": {
        "id": "qeMYyPE_9W8M"
      }
    },
    {
      "cell_type": "code",
      "source": [
        "# mean imputation\n",
        "mean_mileage = ds['Mileage'].mean()\n",
        "ds['Mileage_imputed'] = ds['Mileage'].fillna(mean_mileage)\n",
        "\n",
        "# evaluate\n",
        "print(\"\\nOriginal Mileage Statistics:\\n\", ds['Mileage_orig'].describe())\n",
        "print(\"\\nImputed Mileage Statistics:\\n\", ds['Mileage_imputed'].describe())\n",
        "\n",
        "# plot distributions\n",
        "plt.figure(figsize=(10, 4))\n",
        "sns.histplot(ds['Mileage_orig'].dropna(), bins=30, kde=True, color='blue', label='Original')\n",
        "sns.histplot(ds['Mileage_imputed'], bins=30, kde=True, color='red', label='Imputed')\n",
        "plt.legend()\n",
        "plt.title(\"Mileage Distribution Before & After Imputation\")\n",
        "plt.show()\n"
      ],
      "metadata": {
        "colab": {
          "base_uri": "https://localhost:8080/",
          "height": 803
        },
        "id": "6oAIfB-w9bkx",
        "outputId": "c39e7d11-c577-46b5-896b-5740637cbec1"
      },
      "execution_count": null,
      "outputs": [
        {
          "output_type": "stream",
          "name": "stdout",
          "text": [
            "\n",
            "Original Mileage Statistics:\n",
            " count     10000.000000\n",
            "mean     149239.111800\n",
            "std       86322.348957\n",
            "min          25.000000\n",
            "25%       74649.250000\n",
            "50%      149587.000000\n",
            "75%      223577.500000\n",
            "max      299947.000000\n",
            "Name: Mileage_orig, dtype: float64\n",
            "\n",
            "Imputed Mileage Statistics:\n",
            " count     10000.000000\n",
            "mean     149348.213000\n",
            "std       81867.439151\n",
            "min          25.000000\n",
            "25%       83403.500000\n",
            "50%      149348.213000\n",
            "75%      215005.250000\n",
            "max      299947.000000\n",
            "Name: Mileage_imputed, dtype: float64\n"
          ]
        },
        {
          "output_type": "display_data",
          "data": {
            "text/plain": [
              "<Figure size 1000x400 with 1 Axes>"
            ],
            "image/png": "[encoded data removed]"
          },
          "metadata": {}
        }
      ]
    },
    {
      "cell_type": "markdown",
      "source": [
        "**Observation**"
      ],
      "metadata": {
        "id": "GUi4wQFuK7hN"
      }
    },
    {
      "cell_type": "markdown",
      "source": [
        "The imputation of Mileage using the mean shows a slight shift in the dataset’s distribution. The mean mileage increased from 149,239 km to 149,348 km, and the standard deviation decreased, suggesting a reduction in variance. The histogram indicates a noticeable peak at the imputed mean value, confirming that all missing values were replaced with the same number. While this approach ensures no data is lost, it does not account for the natural variability of mileage values, potentially introducing bias."
      ],
      "metadata": {
        "id": "JwCWl9SmK51g"
      }
    },
    {
      "cell_type": "markdown",
      "source": [
        "**2-Regression Imputation for the attribut: Price**"
      ],
      "metadata": {
        "id": "mNODtJ4i92Bk"
      }
    },
    {
      "cell_type": "code",
      "source": [
        "# prepare dataset\n",
        "train_data = ds[ds['Price'].notna() & ds['Engine_Size'].notna()]\n",
        "X_train = train_data[['Engine_Size']]  # use Engine_Size to predict Price\n",
        "y_train = train_data['Price']\n",
        "\n",
        "# train regression model\n",
        "reg_model = LinearRegression()\n",
        "reg_model.fit(X_train, y_train)\n",
        "\n",
        "missing_price_data = ds[ds['Price'].isna() & ds['Engine_Size'].notna()]\n",
        "X_missing = missing_price_data[['Engine_Size']]\n",
        "\n",
        "predicted_price = reg_model.predict(X_missing) # Predict only for rows without NaN\n",
        "ds.loc[X_missing.index, 'Price_imputed'] = predicted_price\n",
        "\n",
        "# evaluate\n",
        "mse = mean_squared_error(ds.loc[X_missing.index, 'Price_orig'], ds.loc[X_missing.index, 'Price_imputed'])\n",
        "print(\"\\nRegression Imputation MSE for Price:\", mse)\n",
        "\n",
        "# plot comparison\n",
        "plt.figure(figsize=(10, 4))\n",
        "sns.histplot(ds['Price_orig'].dropna(), bins=30, kde=True, color='blue', label='Original')\n",
        "sns.histplot(ds['Price_imputed'].dropna(), bins=30, kde=True, color='red', label='Imputed')\n",
        "plt.legend()\n",
        "plt.title(\"Price Distribution Before & After Imputation\")\n",
        "plt.show()\n"
      ],
      "metadata": {
        "colab": {
          "base_uri": "https://localhost:8080/",
          "height": 446
        },
        "id": "pABcJcPY9zia",
        "outputId": "d816375d-0a94-4c88-d592-b6b0cd5c5281"
      },
      "execution_count": null,
      "outputs": [
        {
          "output_type": "stream",
          "name": "stdout",
          "text": [
            "\n",
            "Regression Imputation MSE for Price: 6425955.706096758\n"
          ]
        },
        {
          "output_type": "display_data",
          "data": {
            "text/plain": [
              "<Figure size 1000x400 with 1 Axes>"
            ],
            "image/png": "[encoded data removed]"
          },
          "metadata": {}
        }
      ]
    },
    {
      "cell_type": "markdown",
      "source": [
        "**Observation**"
      ],
      "metadata": {
        "id": "KXdxbVGCmBsT"
      }
    },
    {
      "cell_type": "markdown",
      "source": [
        "The regression-based imputation for Price aimed to predict missing values based on Engine_Size. The resulting Mean Squared Error (MSE) of 6,425,955 suggests that the predicted values have some deviation from the original prices. The histogram shows that the imputed prices cluster around certain ranges, which may indicate that the regression model was unable to fully capture all the factors influencing price. This could be improved by incorporating additional predictive features beyond Engine_Size."
      ],
      "metadata": {
        "id": "77UBAiEKLH5L"
      }
    },
    {
      "cell_type": "markdown",
      "source": [
        "**3-MICE (Multiple Imputation by Chained Equations) for the attriut: Engine_Size**"
      ],
      "metadata": {
        "id": "tyy36t7TCE_f"
      }
    },
    {
      "cell_type": "code",
      "source": [
        "\n",
        "# prepare dataset\n",
        "mice_imputer = IterativeImputer(max_iter=10, random_state=42)\n",
        "cols_for_imputation = ['Engine_Size', 'Mileage', 'Price']\n",
        "ds_mice = mice_imputer.fit_transform(ds[cols_for_imputation])\n",
        "\n",
        "# assign imputed values\n",
        "ds['Engine_Size_imputed'] = ds_mice[:, 0]\n",
        "\n",
        "# evaluate\n",
        "plt.figure(figsize=(10, 4))\n",
        "sns.histplot(ds['Engine_Size_orig'].dropna(), bins=30, kde=True, color='blue', label='Original')\n",
        "sns.histplot(ds['Engine_Size_imputed'], bins=30, kde=True, color='red', label='Imputed')\n",
        "plt.legend()\n",
        "plt.title(\"Engine Size Distribution Before & After Imputation\")\n",
        "plt.show()\n"
      ],
      "metadata": {
        "colab": {
          "base_uri": "https://localhost:8080/",
          "height": 410
        },
        "id": "ZMjHl26EBpT2",
        "outputId": "c14ac65f-6f8c-4906-d556-aa92e9e46061"
      },
      "execution_count": null,
      "outputs": [
        {
          "output_type": "display_data",
          "data": {
            "text/plain": [
              "<Figure size 1000x400 with 1 Axes>"
            ],
            "image/png": "[encoded data removed]"
          },
          "metadata": {}
        }
      ]
    },
    {
      "cell_type": "markdown",
      "source": [
        "**Observation**"
      ],
      "metadata": {
        "id": "s4C7_r4NmESj"
      }
    },
    {
      "cell_type": "markdown",
      "source": [
        "For Engine_Size, MICE imputation produced a significant peak around a specific value, indicating that many missing values were filled with a similar estimate. The distribution of imputed values is somewhat aligned with the original data but appears less dispersed. This suggests that while MICE captured some relationships between Engine_Size and other attributes, it may have introduced some bias by over-representing common values. This method is effective for preserving relationships across variables but could be enhanced by increasing the number of iterations or adjusting predictor variables."
      ],
      "metadata": {
        "id": "pkHZj1jULOjt"
      }
    },
    {
      "cell_type": "markdown",
      "source": [
        "# ***d/- Evaluation to what extent our approach is finding the missing values***"
      ],
      "metadata": {
        "id": "Z3xPa_-XEgFP"
      }
    },
    {
      "cell_type": "markdown",
      "source": [
        "For this part, as an example of the evaluation techniques presented in class, we proceeded with cross-validation with simulation. Since we intentionally introduced missing values by removing data from three attributes (Mileage, Price, and Engine_Size), we were able to assess how well each imputation method reconstructed the original values. The evaluation was conducted using both visual and quantitative approaches to ensure a thorough analysis of imputation effectiveness."
      ],
      "metadata": {
        "id": "XO008hKKi6iR"
      }
    },
    {
      "cell_type": "markdown",
      "source": [
        "**1-Cross-Validation with Simulation: Visual Approach**"
      ],
      "metadata": {
        "id": "4827P5Vikkbj"
      }
    },
    {
      "cell_type": "markdown",
      "source": [
        "To visually inspect the imputation results, we compared the distribution of the original and imputed values for each attribute using histograms and density plots. These visualizations allowed us to check whether the imputed values followed the natural distribution of the original data or introduced noticeable distortions.\n",
        "\n",
        "For Mileage, mean imputation resulted in a sharp peak at the mean value, which suggests that while all missing values were filled, the natural variability of mileage was not preserved. In contrast, the imputed values for Price, obtained through regression, were more dispersed but clustered in specific regions, indicating that the model captured some trends but not the full complexity of price variation. For Engine_Size, MICE imputation showed a distribution closely aligned with the original values, suggesting that this method was the most effective in maintaining the relationships between attributes. These visual comparisons helped identify whether certain imputation methods biased the data or significantly altered its distribution."
      ],
      "metadata": {
        "id": "paSZEn34komh"
      }
    },
    {
      "cell_type": "markdown",
      "source": [
        "**2-Cross-Validation with Simulation: Quantitative Approach (MAE)**"
      ],
      "metadata": {
        "id": "oDNi7ZcLkrXR"
      }
    },
    {
      "cell_type": "code",
      "source": [
        "\n",
        "# Compute MAE for Mileage\n",
        "mae_mileage = mean_absolute_error(ds['Mileage_orig'].dropna(), ds['Mileage_imputed'].dropna())\n",
        "\n",
        "# Compute MAE for Price\n",
        "valid_indices = ds['Price_imputed'].notna()\n",
        "mae_price = mean_absolute_error(ds.loc[valid_indices, 'Price_orig'], ds.loc[valid_indices, 'Price_imputed'])\n",
        "\n",
        "# Compute MAE for Engine_Size\n",
        "valid_indices_engine = ds['Engine_Size_imputed'].notna()\n",
        "mae_engine = mean_absolute_error(ds.loc[valid_indices_engine, 'Engine_Size_orig'], ds.loc[valid_indices_engine, 'Engine_Size_imputed'])\n",
        "\n",
        "# Print final evaluation results\n",
        "print(\"Evaluation Results \")\n",
        "print(f\"MAE for Mileage Imputation (Mean): {mae_mileage:.2f}\")\n",
        "print(f\"MAE for Price Imputation (Regression): {mae_price:.2f}\")\n",
        "print(f\"MAE for Engine Size Imputation (MICE): {mae_engine:.2f}\")\n"
      ],
      "metadata": {
        "colab": {
          "base_uri": "https://localhost:8080/"
        },
        "id": "cJfHoVAt907X",
        "outputId": "03917b8f-61b3-47b7-b155-14de89f32e6f"
      },
      "execution_count": null,
      "outputs": [
        {
          "output_type": "stream",
          "name": "stdout",
          "text": [
            "Evaluation Results \n",
            "MAE for Mileage Imputation (Mean): 7470.90\n",
            "MAE for Price Imputation (Regression): 2124.20\n",
            "MAE for Engine Size Imputation (MICE): 0.23\n"
          ]
        }
      ]
    },
    {
      "cell_type": "markdown",
      "source": [
        "To complement the visual analysis, we used Mean Absolute Error (MAE) as a quantitative measure of imputation accuracy. MAE calculates the average difference between the original and imputed values, providing an objective assessment of how well missing values were restored.\n",
        "\n",
        "The results showed that mean imputation for Mileage had the highest MAE at 7,470.90, indicating that using a single mean value for all missing entries did not accurately represent the variability in the dataset. Regression imputation for Price yielded a lower MAE of 2,124.20, suggesting that while Engine_Size was a useful predictor, additional features would improve accuracy. MICE imputation for Engine_Size had the lowest MAE at 0.23, demonstrating that using multiple predictors iteratively led to the most precise estimations.\n",
        "\n",
        "These results confirm that more advanced imputation methods, such as regression and MICE, are better suited for capturing complex relationships between variables, while simpler techniques like mean imputation may introduce bias by failing to account for data variability. The combination of visual and statistical evaluation provides a well-rounded assessment of imputation effectiveness, ensuring that the dataset maintains its integrity for further analysis."
      ],
      "metadata": {
        "id": "TPkXgy_lk1ug"
      }
    },
    {
      "cell_type": "markdown",
      "source": [
        "### **Global conclusion**  \n",
        "\n",
        "Through the application and evaluation of different imputation methods, we observed that the choice of technique significantly impacts the accuracy and distribution of restored values. Mean imputation, while simple, introduced bias by failing to capture variability, as seen in the `Mileage` attribute. Regression imputation for `Price` performed better but was limited by the strength of its predictor variable. MICE imputation for `Engine_Size` proved to be the most effective, producing values closest to the original data. By combining **visual inspection** and **quantitative evaluation using MAE**, we confirmed that more advanced methods, particularly those leveraging multiple predictors, result in more reliable imputations. This highlights the importance of selecting imputation strategies that preserve both statistical properties and real-world relationships within the dataset."
      ],
      "metadata": {
        "id": "0Xt37TTuMu4w"
      }
    },
    {
      "cell_type": "markdown",
      "source": [
        "**References**"
      ],
      "metadata": {
        "id": "z3hqzmeaMvTc"
      }
    },
    {
      "cell_type": "markdown",
      "source": [
        "* https://www.kaggle.com/code/leedonghyeok/multiple-imputation-mice\n",
        "* https://www.youtube.com/watch?v=dm7YNsN_Nwo&ab_channel=SelvaPrabhakaran%28ML%2B%29\n",
        "* https://www.kaggle.com/code/shashankasubrahmanya/missing-data-imputation-using-regression\n",
        "* https://scikit-learn.org/stable/modules/generated/sklearn.metrics.mean_absolute_error.html\n",
        "* https://www.geeksforgeeks.org/cross-validation-machine-learning/\n",
        "\n",
        "* ChatGPT:\n",
        "\n",
        "\n",
        " ### **1- Cross-Validation with Simulation: Visual vs. Quantitative Approaches**  \n",
        "\n",
        "Cross-validation with simulation can be done in **two main ways**:  \n",
        "\n",
        "1. **Visual Validation** – Checking the plausibility of imputed values using distribution plots, histograms, and density curves to compare the original and imputed data. This approach helps detect significant distortions or unrealistic imputations.  \n",
        "2. **Quantitative Validation** – Using statistical metrics like **Mean Absolute Error (MAE)**, **Mean Squared Error (MSE)**, or **Root Mean Squared Error (RMSE)** to numerically assess how well the imputed values match the original ones. This provides an objective measure of imputation accuracy.  \n",
        "\n",
        "### **How It Applies to Our Work**  \n",
        "In our case, we used **both approaches**:  \n",
        "- We **simulated missing values**, then **imputed** them using different methods.  \n",
        "- We **visualized the results** using histograms to check whether the imputed distributions matched the original data.  \n",
        "- We **calculated MAE** to quantify the accuracy of imputation.  \n",
        "\n",
        "**MAE complements visual inspection** by providing a numerical error measure, ensuring that imputation quality is assessed both qualitatively (through graphs) and quantitatively (through statistical evaluation).  \n",
        "\n",
        "### **Conclusion**  \n",
        "While **visual validation** is useful for detecting major inconsistencies, it should be combined with **quantitative evaluation methods like MAE** for a more robust assessment. In our case, MAE confirmed that **MICE was the most accurate method**, while the visualizations showed that **mean imputation introduced bias** and **regression had limitations due to predictor selection**.\n",
        "\n",
        "\n",
        "\n",
        "\n",
        "\n",
        "\n",
        "### **2- General Code for MAE in the Evaluation Process**\n",
        "The **Mean Absolute Error (MAE)** is widely used to assess imputation accuracy by measuring the average absolute difference between original and imputed values. Below is a general template for using MAE in an evaluation process.\n",
        "\n",
        "---\n",
        "\n",
        "### **1️⃣ Import Required Libraries**\n",
        "```python\n",
        "import pandas as pd\n",
        "import numpy as np\n",
        "from sklearn.metrics import mean_absolute_error\n",
        "```\n",
        "\n",
        "---\n",
        "\n",
        "### **2️⃣ Create or Load a Sample Dataset**\n",
        "If you are working with an actual dataset that has missing values:\n",
        "```python\n",
        "# Sample dataset with missing values\n",
        "df = pd.DataFrame({\n",
        "    'Original': [10000, 20000, 30000, 40000, 50000, np.nan, 70000, 80000, np.nan, 100000],\n",
        "    'Imputed':  [10000, 19500, 30500, 40000, 50000, 60000, 70000, 80000, 90000, 100000]  # Imputed values\n",
        "})\n",
        "```\n",
        "\n",
        "---\n",
        "\n",
        "### **3️⃣ Compute MAE for Imputed Data**\n",
        "```python\n",
        "# Ensure that we compare only rows where original values exist (i.e., drop NaN from Original)\n",
        "valid_indices = df['Original'].notna()\n",
        "\n",
        "# Compute MAE\n",
        "mae = mean_absolute_error(df.loc[valid_indices, 'Original'], df.loc[valid_indices, 'Imputed'])\n",
        "\n",
        "# Print MAE result\n",
        "print(f\"Mean Absolute Error (MAE): {mae:.2f}\")\n",
        "```\n",
        "\n",
        "---\n",
        "\n",
        "### **4️⃣ MAE for Multiple Imputed Features**\n",
        "If multiple features were imputed:\n",
        "```python\n",
        "# Example dataset with multiple attributes\n",
        "df = pd.DataFrame({\n",
        "    'Mileage_orig': [10000, 20000, 30000, np.nan, 50000],\n",
        "    'Mileage_imputed': [10000, 19500, 30500, 40000, 50000],\n",
        "    'Price_orig': [5000, np.nan, 12000, 15000, 18000],\n",
        "    'Price_imputed': [5000, 9000, 12000, 15000, 18000]\n",
        "})\n",
        "\n",
        "# Loop through each feature and compute MAE\n",
        "for col in ['Mileage', 'Price']:\n",
        "    original_col = f\"{col}_orig\"\n",
        "    imputed_col = f\"{col}_imputed\"\n",
        "\n",
        "    # Ensure comparison only where original values exist\n",
        "    valid_indices = df[original_col].notna()\n",
        "    mae = mean_absolute_error(df.loc[valid_indices, original_col], df.loc[valid_indices, imputed_col])\n",
        "\n",
        "    print(f\"MAE for {col} Imputation: {mae:.2f}\")\n",
        "```\n",
        "\n",
        "---\n",
        "\n",
        "### **5️⃣ Interpreting MAE Results**\n",
        "- **Lower MAE** → The imputation is more accurate (imputed values closely match the original values).  \n",
        "- **Higher MAE** → Greater error in imputation, meaning the imputed values deviate significantly from the original values.  \n",
        "\n",
        "---\n",
        "\n",
        "### **Key Takeaways**\n",
        "✔ **MAE is an objective way to evaluate imputation accuracy.**  \n",
        "✔ **Always drop NaN values from the original column before computing MAE.**  \n",
        "✔ **Use loops to efficiently compute MAE for multiple features.**  \n",
        "✔ **Lower MAE means better imputation performance.**  \n",
        "\n",
        "This general framework can be adapted to any dataset with missing values. 🚀 Let me know if you need further clarifications!"
      ],
      "metadata": {
        "id": "0dS3h2K_MxMS"
      }
    }
  ]
}