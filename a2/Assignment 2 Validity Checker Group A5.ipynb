{
  "cells": [
    {
      "cell_type": "markdown",
      "metadata": {
        "id": "sD9hXciyhXfR"
      },
      "source": [
        "# Assignment 2 - Data Cleaning\n",
        "\n",
        "**Group number**: A-5 <br>\n",
        "**Name student**: Zanou Rih & Sanaa El Marbouh<br>\n",
        "**Student Number**: 300178068 & 300267783 <br>\n",
        "\n",
        "##1. Introduction\n",
        "\n",
        "\n",
        "##2. Dataset Description - Cafe Sales Dataset\n",
        "\n",
        "&#128279; **Link**: https://www.kaggle.com/datasets/ahmedmohamed2003/cafe-sales-dirty-data-for-cleaning-training<br>\n",
        "&#128100; **Author**: Ahmed Mohamed <br>\n",
        "\n",
        "**Size**: 8 Columns, 10000 rows <br>\n",
        "**Description**:  <br>\n",
        "\n",
        "**About dataset**: <br>\n",
        "The Dirty Cafe Sales dataset contains 10,000 rows of synthetic data representing sales transactions in a cafe. This dataset is intentionally \"dirty,\" with missing values, inconsistent data, and errors introduced to provide a realistic scenario for data cleaning and exploratory data analysis (EDA). It can be used to practice cleaning techniques, data wrangling, and feature engineering.\n",
        "\n",
        "**Key Features**: <br>\n",
        "Transaction ID:\tA unique identifier for each transaction. Always present and unique\n",
        "\n",
        "Item:\tThe name of the item purchased. May contain missing or invalid values (e.g., \"ERROR\")\n",
        "\n",
        "Quantity:\tThe quantity of the item purchased. May contain missing or invalid values\n",
        "\n",
        "Price Per Unit:\tThe price of a single unit of the item. May contain missing or invalid value\n",
        "\n",
        "Total Spent:\tThe total amount spent on the transaction. Calculated as Quantity * Price Per Unit\n",
        "\n",
        "Payment Method:\tThe method of payment used. May contain missing or invalid values (e.g., None, \"UNKNOWN\")\n",
        "\n",
        "Location\tThe location where the transaction occurred. May contain missing or invalid values\n",
        "\n",
        "Transaction Date:\tThe date of the transaction. May contain missing or incorrect values.\n"
      ]
    },
    {
      "cell_type": "code",
      "execution_count": 5,
      "metadata": {
        "id": "dSSDBtxSJGmT"
      },
      "outputs": [],
      "source": [
        "# IMPORT STATEMENTS\n",
        "\n",
        "import pandas as pd\n",
        "import numpy as np\n",
        "import matplotlib.pyplot as plt\n",
        "import seaborn as sns\n",
        "from collections import Counter\n"
      ]
    },
    {
      "cell_type": "code",
      "execution_count": 6,
      "metadata": {
        "colab": {
          "base_uri": "https://localhost:8080/",
          "height": 206
        },
        "id": "1b-qfd5pLzOs",
        "outputId": "5113a248-3977-4571-c278-61b7a11ed41f"
      },
      "outputs": [
        {
          "data": {
            "application/vnd.google.colaboratory.intrinsic+json": {
              "summary": "{\n  \"name\": \"ds\",\n  \"rows\": 10000,\n  \"fields\": [\n    {\n      \"column\": \"Transaction ID\",\n      \"properties\": {\n        \"dtype\": \"string\",\n        \"num_unique_values\": 10000,\n        \"samples\": [\n          \"TXN_2919952\",\n          \"TXN_4265056\",\n          \"TXN_2463115\"\n        ],\n        \"semantic_type\": \"\",\n        \"description\": \"\"\n      }\n    },\n    {\n      \"column\": \"Item\",\n      \"properties\": {\n        \"dtype\": \"category\",\n        \"num_unique_values\": 10,\n        \"samples\": [\n          \"Juice\",\n          \"Cake\",\n          \"UNKNOWN\"\n        ],\n        \"semantic_type\": \"\",\n        \"description\": \"\"\n      }\n    },\n    {\n      \"column\": \"Quantity\",\n      \"properties\": {\n        \"dtype\": \"category\",\n        \"num_unique_values\": 7,\n        \"samples\": [\n          \"2\",\n          \"4\",\n          \"ERROR\"\n        ],\n        \"semantic_type\": \"\",\n        \"description\": \"\"\n      }\n    },\n    {\n      \"column\": \"Price Per Unit\",\n      \"properties\": {\n        \"dtype\": \"category\",\n        \"num_unique_values\": 8,\n        \"samples\": [\n          \"3.0\",\n          \"1.5\",\n          \"2.0\"\n        ],\n        \"semantic_type\": \"\",\n        \"description\": \"\"\n      }\n    },\n    {\n      \"column\": \"Total Spent\",\n      \"properties\": {\n        \"dtype\": \"category\",\n        \"num_unique_values\": 19,\n        \"samples\": [\n          \"4.0\",\n          \"9.0\",\n          \"3.0\"\n        ],\n        \"semantic_type\": \"\",\n        \"description\": \"\"\n      }\n    },\n    {\n      \"column\": \"Payment Method\",\n      \"properties\": {\n        \"dtype\": \"category\",\n        \"num_unique_values\": 5,\n        \"samples\": [\n          \"Cash\",\n          \"ERROR\",\n          \"UNKNOWN\"\n        ],\n        \"semantic_type\": \"\",\n        \"description\": \"\"\n      }\n    },\n    {\n      \"column\": \"Location\",\n      \"properties\": {\n        \"dtype\": \"category\",\n        \"num_unique_values\": 4,\n        \"samples\": [\n          \"In-store\",\n          \"ERROR\",\n          \"Takeaway\"\n        ],\n        \"semantic_type\": \"\",\n        \"description\": \"\"\n      }\n    },\n    {\n      \"column\": \"Transaction Date\",\n      \"properties\": {\n        \"dtype\": \"category\",\n        \"num_unique_values\": 367,\n        \"samples\": [\n          \"2023-05-09\",\n          \"2023-05-28\",\n          \"2023-11-15\"\n        ],\n        \"semantic_type\": \"\",\n        \"description\": \"\"\n      }\n    }\n  ]\n}",
              "type": "dataframe",
              "variable_name": "ds"
            },
            "text/html": [
              "\n",
              "  <div id=\"df-a4668277-9be7-4323-ac85-9c391f7ddfa0\" class=\"colab-df-container\">\n",
              "    <div>\n",
              "<style scoped>\n",
              "    .dataframe tbody tr th:only-of-type {\n",
              "        vertical-align: middle;\n",
              "    }\n",
              "\n",
              "    .dataframe tbody tr th {\n",
              "        vertical-align: top;\n",
              "    }\n",
              "\n",
              "    .dataframe thead th {\n",
              "        text-align: right;\n",
              "    }\n",
              "</style>\n",
              "<table border=\"1\" class=\"dataframe\">\n",
              "  <thead>\n",
              "    <tr style=\"text-align: right;\">\n",
              "      <th></th>\n",
              "      <th>Transaction ID</th>\n",
              "      <th>Item</th>\n",
              "      <th>Quantity</th>\n",
              "      <th>Price Per Unit</th>\n",
              "      <th>Total Spent</th>\n",
              "      <th>Payment Method</th>\n",
              "      <th>Location</th>\n",
              "      <th>Transaction Date</th>\n",
              "    </tr>\n",
              "  </thead>\n",
              "  <tbody>\n",
              "    <tr>\n",
              "      <th>0</th>\n",
              "      <td>TXN_1961373</td>\n",
              "      <td>Coffee</td>\n",
              "      <td>2</td>\n",
              "      <td>2.0</td>\n",
              "      <td>4.0</td>\n",
              "      <td>Credit Card</td>\n",
              "      <td>Takeaway</td>\n",
              "      <td>2023-09-08</td>\n",
              "    </tr>\n",
              "    <tr>\n",
              "      <th>1</th>\n",
              "      <td>TXN_4977031</td>\n",
              "      <td>Cake</td>\n",
              "      <td>4</td>\n",
              "      <td>3.0</td>\n",
              "      <td>12.0</td>\n",
              "      <td>Cash</td>\n",
              "      <td>In-store</td>\n",
              "      <td>2023-05-16</td>\n",
              "    </tr>\n",
              "    <tr>\n",
              "      <th>2</th>\n",
              "      <td>TXN_4271903</td>\n",
              "      <td>Cookie</td>\n",
              "      <td>4</td>\n",
              "      <td>1.0</td>\n",
              "      <td>ERROR</td>\n",
              "      <td>Credit Card</td>\n",
              "      <td>In-store</td>\n",
              "      <td>2023-07-19</td>\n",
              "    </tr>\n",
              "    <tr>\n",
              "      <th>3</th>\n",
              "      <td>TXN_7034554</td>\n",
              "      <td>Salad</td>\n",
              "      <td>2</td>\n",
              "      <td>5.0</td>\n",
              "      <td>10.0</td>\n",
              "      <td>UNKNOWN</td>\n",
              "      <td>UNKNOWN</td>\n",
              "      <td>2023-04-27</td>\n",
              "    </tr>\n",
              "    <tr>\n",
              "      <th>4</th>\n",
              "      <td>TXN_3160411</td>\n",
              "      <td>Coffee</td>\n",
              "      <td>2</td>\n",
              "      <td>2.0</td>\n",
              "      <td>4.0</td>\n",
              "      <td>Digital Wallet</td>\n",
              "      <td>In-store</td>\n",
              "      <td>2023-06-11</td>\n",
              "    </tr>\n",
              "  </tbody>\n",
              "</table>\n",
              "</div>\n",
              "    <div class=\"colab-df-buttons\">\n",
              "\n",
              "  <div class=\"colab-df-container\">\n",
              "    <button class=\"colab-df-convert\" onclick=\"convertToInteractive('df-a4668277-9be7-4323-ac85-9c391f7ddfa0')\"\n",
              "            title=\"Convert this dataframe to an interactive table.\"\n",
              "            style=\"display:none;\">\n",
              "\n",
              "  <svg xmlns=\"http://www.w3.org/2000/svg\" height=\"24px\" viewBox=\"0 -960 960 960\">\n",
              "    <path d=\"M120-120v-720h720v720H120Zm60-500h600v-160H180v160Zm220 220h160v-160H400v160Zm0 220h160v-160H400v160ZM180-400h160v-160H180v160Zm440 0h160v-160H620v160ZM180-180h160v-160H180v160Zm440 0h160v-160H620v160Z\"/>\n",
              "  </svg>\n",
              "    </button>\n",
              "\n",
              "  <style>\n",
              "    .colab-df-container {\n",
              "      display:flex;\n",
              "      gap: 12px;\n",
              "    }\n",
              "\n",
              "    .colab-df-convert {\n",
              "      background-color: #E8F0FE;\n",
              "      border: none;\n",
              "      border-radius: 50%;\n",
              "      cursor: pointer;\n",
              "      display: none;\n",
              "      fill: #1967D2;\n",
              "      height: 32px;\n",
              "      padding: 0 0 0 0;\n",
              "      width: 32px;\n",
              "    }\n",
              "\n",
              "    .colab-df-convert:hover {\n",
              "      background-color: #E2EBFA;\n",
              "      box-shadow: 0px 1px 2px rgba(60, 64, 67, 0.3), 0px 1px 3px 1px rgba(60, 64, 67, 0.15);\n",
              "      fill: #174EA6;\n",
              "    }\n",
              "\n",
              "    .colab-df-buttons div {\n",
              "      margin-bottom: 4px;\n",
              "    }\n",
              "\n",
              "    [theme=dark] .colab-df-convert {\n",
              "      background-color: #3B4455;\n",
              "      fill: #D2E3FC;\n",
              "    }\n",
              "\n",
              "    [theme=dark] .colab-df-convert:hover {\n",
              "      background-color: #434B5C;\n",
              "      box-shadow: 0px 1px 3px 1px rgba(0, 0, 0, 0.15);\n",
              "      filter: drop-shadow(0px 1px 2px rgba(0, 0, 0, 0.3));\n",
              "      fill: #FFFFFF;\n",
              "    }\n",
              "  </style>\n",
              "\n",
              "    <script>\n",
              "      const buttonEl =\n",
              "        document.querySelector('#df-a4668277-9be7-4323-ac85-9c391f7ddfa0 button.colab-df-convert');\n",
              "      buttonEl.style.display =\n",
              "        google.colab.kernel.accessAllowed ? 'block' : 'none';\n",
              "\n",
              "      async function convertToInteractive(key) {\n",
              "        const element = document.querySelector('#df-a4668277-9be7-4323-ac85-9c391f7ddfa0');\n",
              "        const dataTable =\n",
              "          await google.colab.kernel.invokeFunction('convertToInteractive',\n",
              "                                                    [key], {});\n",
              "        if (!dataTable) return;\n",
              "\n",
              "        const docLinkHtml = 'Like what you see? Visit the ' +\n",
              "          '<a target=\"_blank\" href=https://colab.research.google.com/notebooks/data_table.ipynb>data table notebook</a>'\n",
              "          + ' to learn more about interactive tables.';\n",
              "        element.innerHTML = '';\n",
              "        dataTable['output_type'] = 'display_data';\n",
              "        await google.colab.output.renderOutput(dataTable, element);\n",
              "        const docLink = document.createElement('div');\n",
              "        docLink.innerHTML = docLinkHtml;\n",
              "        element.appendChild(docLink);\n",
              "      }\n",
              "    </script>\n",
              "  </div>\n",
              "\n",
              "\n",
              "<div id=\"df-1765dc65-4a7e-447a-9e00-24006ab2be73\">\n",
              "  <button class=\"colab-df-quickchart\" onclick=\"quickchart('df-1765dc65-4a7e-447a-9e00-24006ab2be73')\"\n",
              "            title=\"Suggest charts\"\n",
              "            style=\"display:none;\">\n",
              "\n",
              "<svg xmlns=\"http://www.w3.org/2000/svg\" height=\"24px\"viewBox=\"0 0 24 24\"\n",
              "     width=\"24px\">\n",
              "    <g>\n",
              "        <path d=\"M19 3H5c-1.1 0-2 .9-2 2v14c0 1.1.9 2 2 2h14c1.1 0 2-.9 2-2V5c0-1.1-.9-2-2-2zM9 17H7v-7h2v7zm4 0h-2V7h2v10zm4 0h-2v-4h2v4z\"/>\n",
              "    </g>\n",
              "</svg>\n",
              "  </button>\n",
              "\n",
              "<style>\n",
              "  .colab-df-quickchart {\n",
              "      --bg-color: #E8F0FE;\n",
              "      --fill-color: #1967D2;\n",
              "      --hover-bg-color: #E2EBFA;\n",
              "      --hover-fill-color: #174EA6;\n",
              "      --disabled-fill-color: #AAA;\n",
              "      --disabled-bg-color: #DDD;\n",
              "  }\n",
              "\n",
              "  [theme=dark] .colab-df-quickchart {\n",
              "      --bg-color: #3B4455;\n",
              "      --fill-color: #D2E3FC;\n",
              "      --hover-bg-color: #434B5C;\n",
              "      --hover-fill-color: #FFFFFF;\n",
              "      --disabled-bg-color: #3B4455;\n",
              "      --disabled-fill-color: #666;\n",
              "  }\n",
              "\n",
              "  .colab-df-quickchart {\n",
              "    background-color: var(--bg-color);\n",
              "    border: none;\n",
              "    border-radius: 50%;\n",
              "    cursor: pointer;\n",
              "    display: none;\n",
              "    fill: var(--fill-color);\n",
              "    height: 32px;\n",
              "    padding: 0;\n",
              "    width: 32px;\n",
              "  }\n",
              "\n",
              "  .colab-df-quickchart:hover {\n",
              "    background-color: var(--hover-bg-color);\n",
              "    box-shadow: 0 1px 2px rgba(60, 64, 67, 0.3), 0 1px 3px 1px rgba(60, 64, 67, 0.15);\n",
              "    fill: var(--button-hover-fill-color);\n",
              "  }\n",
              "\n",
              "  .colab-df-quickchart-complete:disabled,\n",
              "  .colab-df-quickchart-complete:disabled:hover {\n",
              "    background-color: var(--disabled-bg-color);\n",
              "    fill: var(--disabled-fill-color);\n",
              "    box-shadow: none;\n",
              "  }\n",
              "\n",
              "  .colab-df-spinner {\n",
              "    border: 2px solid var(--fill-color);\n",
              "    border-color: transparent;\n",
              "    border-bottom-color: var(--fill-color);\n",
              "    animation:\n",
              "      spin 1s steps(1) infinite;\n",
              "  }\n",
              "\n",
              "  @keyframes spin {\n",
              "    0% {\n",
              "      border-color: transparent;\n",
              "      border-bottom-color: var(--fill-color);\n",
              "      border-left-color: var(--fill-color);\n",
              "    }\n",
              "    20% {\n",
              "      border-color: transparent;\n",
              "      border-left-color: var(--fill-color);\n",
              "      border-top-color: var(--fill-color);\n",
              "    }\n",
              "    30% {\n",
              "      border-color: transparent;\n",
              "      border-left-color: var(--fill-color);\n",
              "      border-top-color: var(--fill-color);\n",
              "      border-right-color: var(--fill-color);\n",
              "    }\n",
              "    40% {\n",
              "      border-color: transparent;\n",
              "      border-right-color: var(--fill-color);\n",
              "      border-top-color: var(--fill-color);\n",
              "    }\n",
              "    60% {\n",
              "      border-color: transparent;\n",
              "      border-right-color: var(--fill-color);\n",
              "    }\n",
              "    80% {\n",
              "      border-color: transparent;\n",
              "      border-right-color: var(--fill-color);\n",
              "      border-bottom-color: var(--fill-color);\n",
              "    }\n",
              "    90% {\n",
              "      border-color: transparent;\n",
              "      border-bottom-color: var(--fill-color);\n",
              "    }\n",
              "  }\n",
              "</style>\n",
              "\n",
              "  <script>\n",
              "    async function quickchart(key) {\n",
              "      const quickchartButtonEl =\n",
              "        document.querySelector('#' + key + ' button');\n",
              "      quickchartButtonEl.disabled = true;  // To prevent multiple clicks.\n",
              "      quickchartButtonEl.classList.add('colab-df-spinner');\n",
              "      try {\n",
              "        const charts = await google.colab.kernel.invokeFunction(\n",
              "            'suggestCharts', [key], {});\n",
              "      } catch (error) {\n",
              "        console.error('Error during call to suggestCharts:', error);\n",
              "      }\n",
              "      quickchartButtonEl.classList.remove('colab-df-spinner');\n",
              "      quickchartButtonEl.classList.add('colab-df-quickchart-complete');\n",
              "    }\n",
              "    (() => {\n",
              "      let quickchartButtonEl =\n",
              "        document.querySelector('#df-1765dc65-4a7e-447a-9e00-24006ab2be73 button');\n",
              "      quickchartButtonEl.style.display =\n",
              "        google.colab.kernel.accessAllowed ? 'block' : 'none';\n",
              "    })();\n",
              "  </script>\n",
              "</div>\n",
              "\n",
              "    </div>\n",
              "  </div>\n"
            ],
            "text/plain": [
              "  Transaction ID    Item Quantity Price Per Unit Total Spent  Payment Method  \\\n",
              "0    TXN_1961373  Coffee        2            2.0         4.0     Credit Card   \n",
              "1    TXN_4977031    Cake        4            3.0        12.0            Cash   \n",
              "2    TXN_4271903  Cookie        4            1.0       ERROR     Credit Card   \n",
              "3    TXN_7034554   Salad        2            5.0        10.0         UNKNOWN   \n",
              "4    TXN_3160411  Coffee        2            2.0         4.0  Digital Wallet   \n",
              "\n",
              "   Location Transaction Date  \n",
              "0  Takeaway       2023-09-08  \n",
              "1  In-store       2023-05-16  \n",
              "2  In-store       2023-07-19  \n",
              "3   UNKNOWN       2023-04-27  \n",
              "4  In-store       2023-06-11  "
            ]
          },
          "execution_count": 6,
          "metadata": {},
          "output_type": "execute_result"
        }
      ],
      "source": [
        "# raw file URL from github\n",
        "git_url_ds = \"https://raw.githubusercontent.com/zanoudev/csi4142-ds/refs/heads/master/dirty_cafe_sales.csv\"\n",
        "\n",
        "#load DS\n",
        "ds = pd.read_csv(git_url_ds)\n",
        "\n",
        "# display the first few rows\n",
        "ds.head()"
      ]
    },
    {
      "cell_type": "markdown",
      "metadata": {
        "id": "UzOvC9l2Gvlk"
      },
      "source": [
        "##3. Errors\n",
        "###3.1 Data Type Errors"
      ]
    },
    {
      "cell_type": "code",
      "execution_count": 7,
      "metadata": {
        "id": "T2cPFOVwH82X"
      },
      "outputs": [],
      "source": [
        "# PARAMETERS\n",
        "\n",
        "data_type_rules = {\n",
        "    \"Transaction ID\": \"string\",\n",
        "    \"Item\": \"string\",\n",
        "    \"Quantity\": \"int\",\n",
        "    \"Price Per Unit\": \"float\",\n",
        "    \"Total Spent\": \"float\",\n",
        "    \"Payment Method\": \"string\",\n",
        "    \"Location\": \"string\",\n",
        "    \"Transaction Date\": \"datetime\"\n",
        "}"
      ]
    },
    {
      "cell_type": "code",
      "execution_count": 8,
      "metadata": {
        "colab": {
          "base_uri": "https://localhost:8080/"
        },
        "id": "cyDtfSZEIM01",
        "outputId": "0bf6a62e-5cb4-449d-b686-5d17611bf32f"
      },
      "outputs": [
        {
          "name": "stdout",
          "output_type": "stream",
          "text": [
            "Data Type Errors Found:\n",
            "- Item: 333 errors\n",
            "  Invalid Values:\n",
            "    - nan: 333 times\n",
            "- Quantity: 479 errors\n",
            "  Invalid Values:\n",
            "    - 'ERROR': 170 times\n",
            "    - 'UNKNOWN': 171 times\n",
            "    - nan: 138 times\n",
            "- Price Per Unit: 533 errors\n",
            "  Invalid Values:\n",
            "    - nan: 179 times\n",
            "    - 'ERROR': 190 times\n",
            "    - 'UNKNOWN': 164 times\n",
            "- Total Spent: 502 errors\n",
            "  Invalid Values:\n",
            "    - 'ERROR': 164 times\n",
            "    - nan: 173 times\n",
            "    - 'UNKNOWN': 165 times\n",
            "- Payment Method: 2579 errors\n",
            "  Invalid Values:\n",
            "    - nan: 2579 times\n",
            "- Location: 3265 errors\n",
            "  Invalid Values:\n",
            "    - nan: 3265 times\n",
            "- Transaction Date: 460 errors\n",
            "  Invalid Values:\n",
            "    - 'ERROR': 142 times\n",
            "    - nan: 159 times\n",
            "    - 'UNKNOWN': 159 times\n"
          ]
        }
      ],
      "source": [
        "# CODE\n",
        "\n",
        "data_type_errors = {}\n",
        "\n",
        "# Check each column's data type\n",
        "for col, expected_type in data_type_rules.items():\n",
        "    if col in ds.columns:\n",
        "        actual_type = ds[col].dtype\n",
        "        invalid_values = []  # store all invalid values for frequency count\n",
        "\n",
        "        # Check for datetime conversion\n",
        "        if expected_type == \"datetime\":\n",
        "            invalid_dates = ds[pd.to_datetime(ds[col], errors='coerce').isna()][col].tolist()\n",
        "            invalid_values.extend(invalid_dates)\n",
        "\n",
        "        # Check integer columns\n",
        "        elif expected_type == \"int\":\n",
        "            invalid_ints = ds[~ds[col].astype(str).str.match(r\"^\\d+$\", na=False)][col].tolist()\n",
        "            invalid_values.extend(invalid_ints)\n",
        "\n",
        "        # Check float columns\n",
        "        elif expected_type == \"float\":\n",
        "            invalid_floats = ds[~ds[col].astype(str).str.match(r\"^-?\\d+(\\.\\d+)?$\", na=False)][col].tolist()\n",
        "            invalid_values.extend(invalid_floats)\n",
        "\n",
        "        # Check string columns\n",
        "        elif expected_type == \"string\":\n",
        "            non_string_values = ds[ds[col].apply(lambda x: not isinstance(x, str))][col].tolist()\n",
        "            invalid_values.extend(non_string_values)\n",
        "\n",
        "        # Store errors only if there are any\n",
        "        if invalid_values:\n",
        "            error_counts = dict(Counter(invalid_values))  # Count occurrences\n",
        "            total_errors = sum(error_counts.values())  # Total count\n",
        "            data_type_errors[col] = {\n",
        "                \"Total Errors\": total_errors,\n",
        "                \"Invalid Values\": error_counts  # Show frequency of each invalid value\n",
        "            }\n",
        "    else:\n",
        "        data_type_errors[col] = {\n",
        "            \"Total Errors\": \"Column Missing\",\n",
        "            \"Invalid Values\": {}\n",
        "        }\n",
        "\n",
        "# Results\n",
        "if data_type_errors:\n",
        "    print(\"Data Type Errors Found:\")\n",
        "    for col, details in data_type_errors.items():\n",
        "        print(f\"- {col}: {details['Total Errors']} errors\")\n",
        "        if details[\"Invalid Values\"]:\n",
        "            print(\"  Invalid Values:\")\n",
        "            for value, count in details[\"Invalid Values\"].items():\n",
        "                print(f\"    - {repr(value)}: {count} times\")\n",
        "else:\n",
        "    print(\"No data type errors found.\")\n"
      ]
    },
    {
      "cell_type": "markdown",
      "metadata": {
        "id": "kkVEd0skHAdV"
      },
      "source": [
        "###3.2 Range Errors"
      ]
    },
    {
      "cell_type": "code",
      "execution_count": 9,
      "metadata": {
        "id": "2mxiqWh3IFUn"
      },
      "outputs": [],
      "source": [
        "# PARAMETERS\n",
        "\n",
        "range_rules = {\n",
        "    \"Quantity\": {\"min\": 1, \"max\": 100},\n",
        "    \"Price Per Unit\": {\"min\": 0.01, \"max\": 5}, # According to the menu in the kaggle dataset description\n",
        "    \"Total Spent\": {\"min\": 0, \"max\": 1000}\n",
        "}"
      ]
    },
    {
      "cell_type": "code",
      "execution_count": 10,
      "metadata": {
        "colab": {
          "base_uri": "https://localhost:8080/"
        },
        "id": "vhm550RqIbZ7",
        "outputId": "53efd853-ffba-4afd-e24c-c342f13a266d"
      },
      "outputs": [
        {
          "name": "stdout",
          "output_type": "stream",
          "text": [
            "Range Errors Found:\n",
            "- Quantity: 479 errors\n",
            "  NaN Values: 479 times\n",
            "- Price Per Unit: 533 errors\n",
            "  NaN Values: 533 times\n",
            "- Total Spent: 502 errors\n",
            "  NaN Values: 502 times\n"
          ]
        }
      ],
      "source": [
        "# CODE\n",
        "\n",
        "range_errors = {}\n",
        "\n",
        "for col, bounds in range_rules.items():\n",
        "    if col in ds.columns:\n",
        "        out_of_range_values = []\n",
        "        non_numeric_values = []\n",
        "        nan_count = 0\n",
        "\n",
        "        ds[col] = pd.to_numeric(ds[col], errors='coerce')\n",
        "\n",
        "        # count NaN values separately\n",
        "        nan_count = ds[col].isna().sum()\n",
        "\n",
        "        # store non-numeric values separately (excluding NaN)\n",
        "        invalid_entries = ds.loc[ds[col].isna(), col]\n",
        "        invalid_entries = invalid_entries.dropna()  # Remove NaN to avoid duplicates\n",
        "        if not invalid_entries.empty:\n",
        "            non_numeric_values.extend(invalid_entries.tolist())\n",
        "\n",
        "        if \"min\" in bounds:\n",
        "            min_violations = ds[(ds[col] < bounds[\"min\"]) & ds[col].notna()][col].tolist()\n",
        "            out_of_range_values.extend(min_violations)\n",
        "\n",
        "        if \"max\" in bounds:\n",
        "            max_violations = ds[(ds[col] > bounds[\"max\"]) & ds[col].notna()][col].tolist()\n",
        "            out_of_range_values.extend(max_violations)\n",
        "\n",
        "        if out_of_range_values or non_numeric_values or nan_count > 0:\n",
        "            range_errors[col] = {\n",
        "                \"Total Errors\": len(out_of_range_values) + len(non_numeric_values) + nan_count,\n",
        "                \"Out-of-Range Values\": dict(Counter(out_of_range_values)),\n",
        "                \"Invalid (Non-Numeric) Values\": dict(Counter(non_numeric_values)),\n",
        "                \"NaN Count\": nan_count  # store NaN separately\n",
        "            }\n",
        "    else:\n",
        "        range_errors[col] = {\n",
        "            \"Total Errors\": \"Column Missing\",\n",
        "            \"Out-of-Range Values\": {},\n",
        "            \"Invalid (Non-Numeric) Values\": {},\n",
        "            \"NaN Count\": 0\n",
        "        }\n",
        "\n",
        "# results\n",
        "if range_errors:\n",
        "    print(\"Range Errors Found:\")\n",
        "    for col, details in range_errors.items():\n",
        "        print(f\"- {col}: {details['Total Errors']} errors\")\n",
        "\n",
        "        if details[\"NaN Count\"] > 0:\n",
        "            print(f\"  NaN Values: {details['NaN Count']} times\")\n",
        "\n",
        "        if details[\"Invalid (Non-Numeric) Values\"]:\n",
        "            print(\"  Non-Numeric Values:\")\n",
        "            for value, count in details[\"Invalid (Non-Numeric) Values\"].items():\n",
        "                print(f\"    - {repr(value)}: {count} times\")\n",
        "\n",
        "        if details[\"Out-of-Range Values\"]:\n",
        "            print(\"  Out-of-Range Values:\")\n",
        "            for value, count in details[\"Out-of-Range Values\"].items():\n",
        "                print(f\"    - {value}: {count} times\")\n",
        "else:\n",
        "    print(\"No range errors found.\")\n"
      ]
    },
    {
      "cell_type": "markdown",
      "metadata": {
        "id": "MqJmsljIHHgT"
      },
      "source": [
        "###3.3 Format Errors"
      ]
    },
    {
      "cell_type": "code",
      "execution_count": 11,
      "metadata": {
        "id": "DAqIuQHTIGDc"
      },
      "outputs": [],
      "source": [
        "# PARAMETERS\n",
        "\n",
        "# using regex\n",
        "format_rules = {\n",
        "    \"Transaction ID\": r\"^TXN_\\d{7}$\",  # TXN_ followed by 7 digits\n",
        "    \"Transaction Date\": r\"^\\d{4}-\\d{2}-\\d{2}$\"  # YYYY-MM-DD\n",
        "}\n"
      ]
    },
    {
      "cell_type": "code",
      "execution_count": 12,
      "metadata": {
        "colab": {
          "base_uri": "https://localhost:8080/"
        },
        "id": "K_qPZkcUIegB",
        "outputId": "83471e7f-1a22-45fa-a664-63085b48abe6"
      },
      "outputs": [
        {
          "name": "stdout",
          "output_type": "stream",
          "text": [
            "Format Errors Found:\n",
            "- Transaction Date: 460 errors\n",
            "  Invalid Format Values:\n",
            "    - 'ERROR': 142 times\n",
            "    - nan: 159 times\n",
            "    - 'UNKNOWN': 159 times\n"
          ]
        }
      ],
      "source": [
        "# CODE\n",
        "\n",
        "import re\n",
        "\n",
        "format_errors = {}\n",
        "\n",
        "for col, pattern in format_rules.items():\n",
        "    if col in ds.columns:\n",
        "        invalid_values = []\n",
        "\n",
        "        # values are treated as strings before checking format\n",
        "        invalid_entries = ds[~ds[col].astype(str).str.match(pattern, na=False)][col]\n",
        "        if not invalid_entries.empty:\n",
        "            invalid_values.extend(invalid_entries.tolist())\n",
        "\n",
        "        if invalid_values:\n",
        "            error_counts = dict(Counter(invalid_values))\n",
        "            total_errors = sum(error_counts.values())\n",
        "            format_errors[col] = {\n",
        "                \"Total Errors\": total_errors,\n",
        "                \"Invalid Format Values\": error_counts\n",
        "            }\n",
        "    else:\n",
        "        format_errors[col] = {\n",
        "            \"Total Errors\": \"Column Missing\",\n",
        "            \"Invalid Format Values\": {}\n",
        "        }\n",
        "\n",
        "# results\n",
        "if format_errors:\n",
        "    print(\"Format Errors Found:\")\n",
        "    for col, details in format_errors.items():\n",
        "        print(f\"- {col}: {details['Total Errors']} errors\")\n",
        "\n",
        "        if details[\"Invalid Format Values\"]:\n",
        "            print(\"  Invalid Format Values:\")\n",
        "            for value, count in details[\"Invalid Format Values\"].items():\n",
        "                print(f\"    - {repr(value)}: {count} times\")\n",
        "else:\n",
        "    print(\"No format errors found.\")\n"
      ]
    },
    {
      "cell_type": "markdown",
      "metadata": {
        "id": "ByBfmecPHKRU"
      },
      "source": [
        "###3.4 Consistency Errors"
      ]
    },
    {
      "cell_type": "code",
      "execution_count": 13,
      "metadata": {
        "id": "nuhxEV9oIGxv"
      },
      "outputs": [],
      "source": [
        "# PARAMETERS\n",
        "\n",
        "consistency_rule = {\n",
        "    \"Total Spent\": \"Price Per Unit * Quantity\"\n",
        "}\n"
      ]
    },
    {
      "cell_type": "code",
      "execution_count": 14,
      "metadata": {
        "colab": {
          "base_uri": "https://localhost:8080/"
        },
        "id": "pdX_1WIWIfLg",
        "outputId": "d4392344-9a3f-46f4-d97b-56affb977ff4"
      },
      "outputs": [
        {
          "name": "stdout",
          "output_type": "stream",
          "text": [
            "Consistency Errors Found:\n",
            "- Total Spent: 1456 inconsistencies\n",
            "  - Due to Invalid Price Per Unit: 533\n",
            "  - Due to Invalid Quantity: 479\n",
            "  - Due to Invalid Total Spent: 502\n"
          ]
        }
      ],
      "source": [
        "# CODE\n",
        "\n",
        "consistency_errors = {}\n",
        "\n",
        "# convert numerical cols\n",
        "ds[\"Quantity\"] = pd.to_numeric(ds[\"Quantity\"], errors='coerce')\n",
        "ds[\"Price Per Unit\"] = pd.to_numeric(ds[\"Price Per Unit\"], errors='coerce')\n",
        "ds[\"Total Spent\"] = pd.to_numeric(ds[\"Total Spent\"], errors='coerce')\n",
        "\n",
        "expected_total_spent = ds[\"Price Per Unit\"] * ds[\"Quantity\"]\n",
        "\n",
        "# flag when total spent is not equal OR when value is missing\n",
        "inconsistent_rows = ds[\n",
        "    (ds[\"Total Spent\"].isna()) | (ds[\"Price Per Unit\"].isna()) | (ds[\"Quantity\"].isna()) |\n",
        "    (np.abs(ds[\"Total Spent\"] - expected_total_spent) > 0.00)\n",
        "]\n",
        "\n",
        "total_inconsistencies = len(inconsistent_rows)\n",
        "invalid_price_count = 0\n",
        "invalid_quantity_count = 0\n",
        "invalid_total_spent_count = 0\n",
        "\n",
        "# cause of inconsistency\n",
        "for _, row in inconsistent_rows.iterrows():\n",
        "    is_invalid_total = pd.isna(row[\"Total Spent\"]) or np.abs(row[\"Total Spent\"] - (row[\"Price Per Unit\"] * row[\"Quantity\"])) > 0.01\n",
        "    is_invalid_price = pd.isna(row[\"Price Per Unit\"]) or row[\"Price Per Unit\"] <= 0\n",
        "    is_invalid_quantity = pd.isna(row[\"Quantity\"]) or row[\"Quantity\"] <= 0\n",
        "\n",
        "    if is_invalid_price:\n",
        "        invalid_price_count += 1\n",
        "    if is_invalid_quantity:\n",
        "        invalid_quantity_count += 1\n",
        "    if is_invalid_total:\n",
        "        invalid_total_spent_count += 1\n",
        "\n",
        "consistency_errors[\"Total Spent\"] = {\n",
        "    \"Total Inconsistencies\": total_inconsistencies,\n",
        "    \"Due to Invalid Price Per Unit\": invalid_price_count,\n",
        "    \"Due to Invalid Quantity\": invalid_quantity_count,\n",
        "    \"Due to Invalid Total Spent\": invalid_total_spent_count\n",
        "}\n",
        "\n",
        "# results\n",
        "if consistency_errors[\"Total Spent\"][\"Total Inconsistencies\"] > 0:\n",
        "    print(\"Consistency Errors Found:\")\n",
        "    print(f\"- Total Spent: {consistency_errors['Total Spent']['Total Inconsistencies']} inconsistencies\")\n",
        "    print(f\"  - Due to Invalid Price Per Unit: {consistency_errors['Total Spent']['Due to Invalid Price Per Unit']}\")\n",
        "    print(f\"  - Due to Invalid Quantity: {consistency_errors['Total Spent']['Due to Invalid Quantity']}\")\n",
        "    print(f\"  - Due to Invalid Total Spent: {consistency_errors['Total Spent']['Due to Invalid Total Spent']}\")\n",
        "else:\n",
        "    print(\"No consistency errors found.\")"
      ]
    },
    {
      "cell_type": "markdown",
      "metadata": {
        "id": "qPB7sKZWHPKg"
      },
      "source": [
        "###3.5 Uniqueness Errors"
      ]
    },
    {
      "cell_type": "code",
      "execution_count": 15,
      "metadata": {
        "id": "W3HxZSfUIHiF"
      },
      "outputs": [],
      "source": [
        "# PARAMETERS\n",
        "\n",
        "# Columns that must be unique\n",
        "uniqueness_rule = [\n",
        "    \"Transaction ID\"\n",
        "]"
      ]
    },
    {
      "cell_type": "code",
      "execution_count": 16,
      "metadata": {
        "colab": {
          "base_uri": "https://localhost:8080/"
        },
        "id": "R5vDCoj_If9Z",
        "outputId": "c20847e1-f1f2-4ffe-8ba7-11c295a549a5"
      },
      "outputs": [
        {
          "name": "stdout",
          "output_type": "stream",
          "text": [
            "No uniqueness errors found.\n"
          ]
        }
      ],
      "source": [
        "# CODE\n",
        "\n",
        "uniqueness_errors = {}\n",
        "\n",
        "for col in uniqueness_rule:\n",
        "    if col in ds.columns:\n",
        "        duplicate_values = ds[col][ds[col].duplicated(keep=False)]\n",
        "\n",
        "        if not duplicate_values.empty:\n",
        "            error_counts = dict(Counter(duplicate_values))\n",
        "            total_errors = len(duplicate_values)\n",
        "            uniqueness_errors[col] = {\n",
        "                \"Total Duplicates\": total_errors,\n",
        "                \"Duplicate Values\": error_counts\n",
        "            }\n",
        "    else:\n",
        "        uniqueness_errors[col] = {\n",
        "            \"Total Duplicates\": \"Column Missing\",\n",
        "            \"Duplicate Values\": {}\n",
        "        }\n",
        "\n",
        "# results\n",
        "if uniqueness_errors:\n",
        "    print(\"Uniqueness Errors Found:\")\n",
        "    for col, details in uniqueness_errors.items():\n",
        "        print(f\"- {col}: {details['Total Duplicates']} duplicate entries\")\n",
        "        if details[\"Duplicate Values\"]:\n",
        "            print(\"  Duplicate Values:\")\n",
        "            for value, count in details[\"Duplicate Values\"].items():\n",
        "                print(f\"    - {repr(value)}: {count} times\")\n",
        "else:\n",
        "    print(\"No uniqueness errors found.\")\n"
      ]
    },
    {
      "cell_type": "markdown",
      "metadata": {
        "id": "zcqziQsFHSLj"
      },
      "source": [
        "###3.6 Presence Errors"
      ]
    },
    {
      "cell_type": "code",
      "execution_count": 17,
      "metadata": {
        "id": "puTQziEdIIT7"
      },
      "outputs": [],
      "source": [
        "# PARAMETERS\n",
        "\n",
        "# Columns that must not have missing values\n",
        "presence_rule = [\n",
        "    \"Transaction ID\", \"Item\", \"Quantity\", \"Price Per Unit\", \"Total Spent\", \"Payment Method\", \"Location\", \"Transaction Date\"\n",
        "    ]\n"
      ]
    },
    {
      "cell_type": "code",
      "execution_count": 18,
      "metadata": {
        "colab": {
          "base_uri": "https://localhost:8080/"
        },
        "id": "Lj6SQJUmIgta",
        "outputId": "d3e23174-79d6-4dbf-88c6-c142e424f6d0"
      },
      "outputs": [
        {
          "name": "stdout",
          "output_type": "stream",
          "text": [
            "Presence Errors Found:\n",
            "- Item: 333 missing values\n",
            "- Quantity: 479 missing values\n",
            "- Price Per Unit: 533 missing values\n",
            "- Total Spent: 502 missing values\n",
            "- Payment Method: 2579 missing values\n",
            "- Location: 3265 missing values\n",
            "- Transaction Date: 159 missing values\n"
          ]
        }
      ],
      "source": [
        "# CODE\n",
        "\n",
        "presence_errors = {}\n",
        "\n",
        "for col in presence_rule:\n",
        "    if col in ds.columns:\n",
        "        missing_count = ds[col].isna().sum()  # Count NaN values\n",
        "        if missing_count > 0:\n",
        "            presence_errors[col] = missing_count\n",
        "    else:\n",
        "        presence_errors[col] = \"Column Missing\"\n",
        "\n",
        "# Result\n",
        "if presence_errors:\n",
        "    print(\"Presence Errors Found:\")\n",
        "    for col, missing_count in presence_errors.items():\n",
        "        print(f\"- {col}: {missing_count} missing values\")\n",
        "else:\n",
        "    print(\"No presence errors found.\")\n"
      ]
    },
    {
      "cell_type": "markdown",
      "metadata": {
        "id": "T1cujsrRHWo1"
      },
      "source": [
        "###3.7 Length Errors"
      ]
    },
    {
      "cell_type": "code",
      "execution_count": 19,
      "metadata": {
        "id": "-OKxir1jII8A"
      },
      "outputs": [],
      "source": [
        "# PARAMETERS\n",
        "\n",
        "length_rule = {\n",
        "    \"Transaction ID\": 11,  # TXN_1234567\n",
        "    \"Transaction Date\": 10  # YYYY-MM-DD\n",
        "}\n"
      ]
    },
    {
      "cell_type": "code",
      "execution_count": 20,
      "metadata": {
        "colab": {
          "base_uri": "https://localhost:8080/"
        },
        "id": "cuBI5JMrIhR9",
        "outputId": "1a9fd1c9-708c-431d-ac04-78ec84ffabea"
      },
      "outputs": [
        {
          "name": "stdout",
          "output_type": "stream",
          "text": [
            "Length Errors Found:\n",
            "- Transaction Date: 460 incorrect length values\n",
            "  Invalid Values:\n",
            "    - 'ERROR': 142 times\n",
            "    - nan: 159 times\n",
            "    - 'UNKNOWN': 159 times\n"
          ]
        }
      ],
      "source": [
        "# CODE\n",
        "\n",
        "length_errors = {}\n",
        "\n",
        "for col, expected_length in length_rule.items():\n",
        "    if col in ds.columns:\n",
        "        # Convert to string before checking length\n",
        "        invalid_length_values = ds[ds[col].astype(str).str.len() != expected_length][col]\n",
        "\n",
        "        if not invalid_length_values.empty:\n",
        "            length_errors[col] = {\n",
        "                \"Total Errors\": len(invalid_length_values),\n",
        "                \"Invalid Values\": dict(Counter(invalid_length_values.tolist()))\n",
        "            }\n",
        "    else:\n",
        "        length_errors[col] = {\n",
        "            \"Total Errors\": \"Column Missing\",\n",
        "            \"Invalid Values\": {}\n",
        "        }\n",
        "\n",
        "# results\n",
        "if length_errors:\n",
        "    print(\"Length Errors Found:\")\n",
        "    for col, details in length_errors.items():\n",
        "        print(f\"- {col}: {details['Total Errors']} incorrect length values\")\n",
        "        if details[\"Invalid Values\"]:\n",
        "            print(\"  Invalid Values:\")\n",
        "            for value, count in details[\"Invalid Values\"].items():\n",
        "                print(f\"    - {repr(value)}: {count} times\")\n",
        "else:\n",
        "    print(\"No length errors found.\")\n"
      ]
    },
    {
      "cell_type": "markdown",
      "metadata": {
        "id": "_JKbvxp-HZkI"
      },
      "source": [
        "###3.8 Look-Up Errors"
      ]
    },
    {
      "cell_type": "code",
      "execution_count": 21,
      "metadata": {
        "id": "mUC9Di6LIJeW"
      },
      "outputs": [],
      "source": [
        "# PARAMETERS\n",
        "\n",
        "lookup_rule = {\n",
        "    \"Item\": [\"Coffee\", \"Tea\", \"Sandwich\", \"Salad\", \"Cake\", \"Cookie\", \"Smoothie\", \"Juice\"],\n",
        "    \"Price Per Unit\": [2.0, 1.5, 4.0, 5.0, 3.0, 1.0],\n",
        "    \"Payment Method\": [\"Cash\", \"Credit Card\", \"Digital Wallet\"],\n",
        "    \"Location\": [\"In-Store\", \"Takeaway\"]\n",
        "}\n"
      ]
    },
    {
      "cell_type": "code",
      "execution_count": 22,
      "metadata": {
        "colab": {
          "base_uri": "https://localhost:8080/"
        },
        "id": "jWleF0oHIh2o",
        "outputId": "4d86e2b9-4a55-46ae-f2b8-20cc9b32d1f0"
      },
      "outputs": [
        {
          "name": "stdout",
          "output_type": "stream",
          "text": [
            "Look-up Errors Found:\n",
            "- Item: 969 invalid values\n",
            "  Invalid Values:\n",
            "    - 'UNKNOWN': 344 times\n",
            "    - 'ERROR': 292 times\n",
            "    - 'NaN': 333 times\n",
            "- Price Per Unit: 533 invalid values\n",
            "  Invalid Values:\n",
            "    - 'NaN': 533 times\n",
            "- Payment Method: 3178 invalid values\n",
            "  Invalid Values:\n",
            "    - 'UNKNOWN': 293 times\n",
            "    - 'ERROR': 306 times\n",
            "    - 'NaN': 2579 times\n",
            "- Location: 6978 invalid values\n",
            "  Invalid Values:\n",
            "    - 'In-store': 3017 times\n",
            "    - 'UNKNOWN': 338 times\n",
            "    - 'ERROR': 358 times\n",
            "    - 'NaN': 3265 times\n"
          ]
        }
      ],
      "source": [
        "# CODE\n",
        "\n",
        "lookup_errors = {}\n",
        "\n",
        "for col, valid_values in lookup_rule.items():\n",
        "    if col in ds.columns:\n",
        "        invalid_values = ds[~ds[col].isin(valid_values)][col]\n",
        "\n",
        "        if not invalid_values.empty:\n",
        "            # count NaN values separately\n",
        "            nan_count = invalid_values.isna().sum()\n",
        "\n",
        "            # Remove NaN before counting other invalid values\n",
        "            filtered_invalid_values = invalid_values.dropna()\n",
        "            error_counts = dict(Counter(filtered_invalid_values.tolist()))\n",
        "\n",
        "            # Add NaN count if applicable\n",
        "            if nan_count > 0:\n",
        "                error_counts[\"NaN\"] = nan_count\n",
        "\n",
        "            lookup_errors[col] = {\n",
        "                \"Total Errors\": len(invalid_values),\n",
        "                \"Invalid Values\": error_counts\n",
        "            }\n",
        "    else:\n",
        "        lookup_errors[col] = {\n",
        "            \"Total Errors\": \"Column Missing\",\n",
        "            \"Invalid Values\": {}\n",
        "        }\n",
        "\n",
        "# results\n",
        "if lookup_errors:\n",
        "    print(\"Look-up Errors Found:\")\n",
        "    for col, details in lookup_errors.items():\n",
        "        print(f\"- {col}: {details['Total Errors']} invalid values\")\n",
        "        if details[\"Invalid Values\"]:\n",
        "            print(\"  Invalid Values:\")\n",
        "            for value, count in details[\"Invalid Values\"].items():\n",
        "                print(f\"    - {repr(value)}: {count} times\")\n",
        "else:\n",
        "    print(\"No look-up errors found.\")\n",
        "\n"
      ]
    },
    {
      "cell_type": "markdown",
      "metadata": {
        "id": "HUwgsa21Hcjr"
      },
      "source": [
        "###3.9 Exact Duplicate Errors"
      ]
    },
    {
      "cell_type": "code",
      "execution_count": 23,
      "metadata": {
        "id": "S2oTuhvrIKUL"
      },
      "outputs": [],
      "source": [
        "# PARAMETERS\n",
        "\n",
        "# Exact duplicate rule: The entire row should be unique\n",
        "exact_duplicate_rule = \"All columns must be unique as a full row\"\n"
      ]
    },
    {
      "cell_type": "code",
      "execution_count": 24,
      "metadata": {
        "colab": {
          "base_uri": "https://localhost:8080/"
        },
        "id": "du3Jd5YNIibV",
        "outputId": "6b939509-afc3-4b86-8cff-682d8f5c4bf8"
      },
      "outputs": [
        {
          "name": "stdout",
          "output_type": "stream",
          "text": [
            "No exact duplicate rows found.\n"
          ]
        }
      ],
      "source": [
        "# CODE\n",
        "\n",
        "exact_duplicates = ds[ds.duplicated(keep=False)]\n",
        "\n",
        "total_exact_duplicates = len(exact_duplicates)\n",
        "\n",
        "# results\n",
        "if total_exact_duplicates > 0:\n",
        "    print(f\"Exact Duplicate Errors Found: {total_exact_duplicates} duplicate rows\")\n",
        "\n",
        "    # Show a few examples\n",
        "    print(\"Sample Duplicate Rows:\")\n",
        "    print(exact_duplicates.head(5))  # Show first 5 duplicates\n",
        "else:\n",
        "    print(\"No exact duplicate rows found.\")\n"
      ]
    },
    {
      "cell_type": "markdown",
      "metadata": {
        "id": "EjFNXriwHgIk"
      },
      "source": [
        "###3.10 Near Duplicate Errors"
      ]
    },
    {
      "cell_type": "code",
      "execution_count": 25,
      "metadata": {
        "id": "1ZmByNGaHNcN"
      },
      "outputs": [],
      "source": [
        "# PARAMETERS\n",
        "\n",
        "near_duplicate_rule = [\"Transaction ID\", \"Item\", \"Quantity\", \"Price Per Unit\", \"Total Spent\", \"Payment Method\", \"Location\", \"Transaction Date\"]"
      ]
    },
    {
      "cell_type": "code",
      "execution_count": 26,
      "metadata": {
        "colab": {
          "base_uri": "https://localhost:8080/"
        },
        "id": "wiiDQ0_c55k2",
        "outputId": "ef7dd1db-2077-4890-fbef-88d3e8bae2eb"
      },
      "outputs": [
        {
          "name": "stdout",
          "output_type": "stream",
          "text": [
            "Requirement already satisfied: fuzzywuzzy in /usr/local/lib/python3.11/dist-packages (0.18.0)\n"
          ]
        }
      ],
      "source": [
        "!pip install fuzzywuzzy"
      ]
    },
    {
      "cell_type": "code",
      "execution_count": 27,
      "metadata": {
        "colab": {
          "base_uri": "https://localhost:8080/"
        },
        "id": "uqE0ZoSBIjGD",
        "outputId": "d456494b-23ed-44a1-d0f6-52516c598ca2"
      },
      "outputs": [
        {
          "name": "stdout",
          "output_type": "stream",
          "text": [
            "Near Duplicate Errors Found: 1686 near-duplicate row pairs\n",
            "Sample Near-Duplicate Rows:\n",
            "\n",
            "Pair:\n",
            "Transaction ID      TXN_4271903\n",
            "Item                     Cookie\n",
            "Quantity                    4.0\n",
            "Price Per Unit              1.0\n",
            "Total Spent                 NaN\n",
            "Payment Method      Credit Card\n",
            "Location               In-store\n",
            "Transaction Date     2023-07-19\n",
            "Name: 2, dtype: object\n",
            "Transaction ID      TXN_8477945\n",
            "Item                     Cookie\n",
            "Quantity                    4.0\n",
            "Price Per Unit              1.0\n",
            "Total Spent                 4.0\n",
            "Payment Method              NaN\n",
            "Location               In-store\n",
            "Transaction Date     2023-07-19\n",
            "Name: 6995, dtype: object\n",
            "\n",
            "Pair:\n",
            "Transaction ID      TXN_2602893\n",
            "Item                   Smoothie\n",
            "Quantity                    5.0\n",
            "Price Per Unit              4.0\n",
            "Total Spent                20.0\n",
            "Payment Method      Credit Card\n",
            "Location                    NaN\n",
            "Transaction Date     2023-03-31\n",
            "Name: 5, dtype: object\n",
            "Transaction ID      TXN_1967565\n",
            "Item                   Smoothie\n",
            "Quantity                    5.0\n",
            "Price Per Unit              4.0\n",
            "Total Spent                20.0\n",
            "Payment Method      Credit Card\n",
            "Location               Takeaway\n",
            "Transaction Date     2023-03-31\n",
            "Name: 256, dtype: object\n",
            "\n",
            "Pair:\n",
            "Transaction ID      TXN_2602893\n",
            "Item                   Smoothie\n",
            "Quantity                    5.0\n",
            "Price Per Unit              4.0\n",
            "Total Spent                20.0\n",
            "Payment Method      Credit Card\n",
            "Location                    NaN\n",
            "Transaction Date     2023-03-31\n",
            "Name: 5, dtype: object\n",
            "Transaction ID      TXN_3894165\n",
            "Item                   Smoothie\n",
            "Quantity                    5.0\n",
            "Price Per Unit              4.0\n",
            "Total Spent                20.0\n",
            "Payment Method      Credit Card\n",
            "Location                    NaN\n",
            "Transaction Date     2023-03-31\n",
            "Name: 8718, dtype: object\n",
            "\n",
            "Pair:\n",
            "Transaction ID      TXN_1967565\n",
            "Item                   Smoothie\n",
            "Quantity                    5.0\n",
            "Price Per Unit              4.0\n",
            "Total Spent                20.0\n",
            "Payment Method      Credit Card\n",
            "Location               Takeaway\n",
            "Transaction Date     2023-03-31\n",
            "Name: 256, dtype: object\n",
            "Transaction ID      TXN_3219263\n",
            "Item                   Smoothie\n",
            "Quantity                    5.0\n",
            "Price Per Unit              4.0\n",
            "Total Spent                20.0\n",
            "Payment Method          UNKNOWN\n",
            "Location               Takeaway\n",
            "Transaction Date     2023-03-31\n",
            "Name: 4958, dtype: object\n",
            "\n",
            "Pair:\n",
            "Transaction ID      TXN_1967565\n",
            "Item                   Smoothie\n",
            "Quantity                    5.0\n",
            "Price Per Unit              4.0\n",
            "Total Spent                20.0\n",
            "Payment Method      Credit Card\n",
            "Location               Takeaway\n",
            "Transaction Date     2023-03-31\n",
            "Name: 256, dtype: object\n",
            "Transaction ID      TXN_3894165\n",
            "Item                   Smoothie\n",
            "Quantity                    5.0\n",
            "Price Per Unit              4.0\n",
            "Total Spent                20.0\n",
            "Payment Method      Credit Card\n",
            "Location                    NaN\n",
            "Transaction Date     2023-03-31\n",
            "Name: 8718, dtype: object\n"
          ]
        }
      ],
      "source": [
        "# CODE\n",
        "\n",
        "from collections import defaultdict\n",
        "from fuzzywuzzy import fuzz\n",
        "\n",
        "key_columns = [\"Transaction ID\", \"Item\", \"Quantity\", \"Price Per Unit\", \"Total Spent\", \"Payment Method\", \"Location\", \"Transaction Date\"]\n",
        "grouped_rows = defaultdict(list)\n",
        "\n",
        "for idx, row in ds.iterrows():\n",
        "    key = (row[\"Item\"], row[\"Transaction Date\"])\n",
        "    grouped_rows[key].append(idx)\n",
        "\n",
        "near_duplicates = []\n",
        "\n",
        "# similarity thresholds\n",
        "TEXT_SIMILARITY_THRESHOLD = 90  # fuzzy matching\n",
        "NUMERIC_TOLERANCE = 0.1\n",
        "\n",
        "for key, indices in grouped_rows.items():\n",
        "    for i in range(len(indices)):\n",
        "        for j in range(i + 1, len(indices)):\n",
        "            row1, row2 = ds.iloc[indices[i]], ds.iloc[indices[j]]\n",
        "            differences = 0\n",
        "\n",
        "            # check text similarity\n",
        "            for col in [\"Transaction ID\", \"Item\", \"Payment Method\", \"Location\", \"Transaction Date\"]:\n",
        "                if fuzz.ratio(str(row1[col]), str(row2[col])) < TEXT_SIMILARITY_THRESHOLD:\n",
        "                    differences += 1\n",
        "\n",
        "            # check numeric values within tolerance\n",
        "            for col in [\"Quantity\", \"Price Per Unit\", \"Total Spent\"]:\n",
        "                if pd.notna(row1[col]) and pd.notna(row2[col]):  # Ignore NaN values\n",
        "                    if abs(row1[col] - row2[col]) > NUMERIC_TOLERANCE:\n",
        "                        differences += 1\n",
        "\n",
        "            # near duplicate = 1 or 2 fields are different\n",
        "            if 1 <= differences <= 2:\n",
        "                near_duplicates.append((indices[i], indices[j]))\n",
        "\n",
        "# results\n",
        "if near_duplicates:\n",
        "    print(f\"Near Duplicate Errors Found: {len(near_duplicates)} near-duplicate row pairs\")\n",
        "\n",
        "    # show some examples\n",
        "    print(\"Sample Near-Duplicate Rows:\")\n",
        "    for i, j in near_duplicates[:5]:\n",
        "        print(\"\\nPair:\")\n",
        "        print(ds.iloc[i])\n",
        "        print(ds.iloc[j])\n",
        "else:\n",
        "    print(\"No near duplicate rows found.\")\n",
        "\n",
        "\n"
      ]
    },
    {
      "cell_type": "markdown",
      "metadata": {
        "id": "Cx8mprQBWqWu"
      },
      "source": [
        "## References\n",
        "* https://stackoverflow.com/questions/53622279/fuzzy-match-rows-in-single-dataframe-to-find-duplicates-in-pandas-and-python\n",
        "* https://www.youtube.com/watch?v=lCFEzRaqoJA&ab_channel=KeithLyons"
      ]
    }
  ],
  "metadata": {
    "colab": {
      "provenance": []
    },
    "kernelspec": {
      "display_name": "Python 3",
      "name": "python3"
    },
    "language_info": {
      "name": "python"
    }
  },
  "nbformat": 4,
  "nbformat_minor": 0
}
